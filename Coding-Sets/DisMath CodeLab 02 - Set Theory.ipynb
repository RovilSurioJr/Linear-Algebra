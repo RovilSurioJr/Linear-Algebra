{
 "cells": [
  {
   "cell_type": "markdown",
   "metadata": {},
   "source": [
    "# Set Theory"
   ]
  },
  {
   "cell_type": "markdown",
   "metadata": {},
   "source": [
    "This code activity will try to guide you in applying the concepts, methods, and rules of Set Theory through code. We will go through with the data types in which Set Theory can be applied, how to write them in equation form im $\\LaTeX$, and then we will try to look at a practical example through a user's requirement."
   ]
  },
  {
   "cell_type": "markdown",
   "metadata": {},
   "source": [
    "### Lists"
   ]
  },
  {
   "cell_type": "markdown",
   "metadata": {},
   "source": [
    "In Python,  the most common iterable collection are lists. In lists, elements are ordered and chageable. Lists are denoted by enclosing objects with square brackets $[ ... ]$. Lists can be accessed through their indices, negative indexing is permitted."
   ]
  },
  {
   "cell_type": "code",
   "execution_count": 1,
   "metadata": {},
   "outputs": [],
   "source": [
    "### Declaration\n",
    "employees = ['John', 'Alex', 'Winston', 'Bob', 'Golbi'] ## Best practice when making a list of objects, list variable names should be in plural form "
   ]
  },
  {
   "cell_type": "code",
   "execution_count": 2,
   "metadata": {},
   "outputs": [
    {
     "data": {
      "text/plain": [
       "'Bob'"
      ]
     },
     "execution_count": 2,
     "metadata": {},
     "output_type": "execute_result"
    }
   ],
   "source": [
    "### Single Access\n",
    "employees[-2]"
   ]
  },
  {
   "cell_type": "code",
   "execution_count": 3,
   "metadata": {},
   "outputs": [
    {
     "data": {
      "text/plain": [
       "['Golbi', 'Bob', 'Winston', 'Alex', 'John']"
      ]
     },
     "execution_count": 3,
     "metadata": {},
     "output_type": "execute_result"
    }
   ],
   "source": [
    "### Multiple Access\n",
    "employees[::-1]"
   ]
  },
  {
   "cell_type": "code",
   "execution_count": 4,
   "metadata": {},
   "outputs": [
    {
     "name": "stdout",
     "output_type": "stream",
     "text": [
      "Hi  John\n",
      "Hi  Alex\n",
      "Hi  Winston\n",
      "Hi  Bob\n",
      "Hi  Golbi\n"
     ]
    }
   ],
   "source": [
    "### Multiple Access via Loops\n",
    "for employee in employees: ## To make coding a bit more intuitive, we use the singular form of the list variable name to denote its elements.\n",
    "    print(\"Hi \",employee)"
   ]
  },
  {
   "cell_type": "code",
   "execution_count": 5,
   "metadata": {},
   "outputs": [
    {
     "name": "stdout",
     "output_type": "stream",
     "text": [
      "John\n",
      "Winston\n",
      "Golbi\n"
     ]
    }
   ],
   "source": [
    "### Multiple Access via Loops\n",
    "\n",
    "for i in range(len(employees)): ## You could also use indices for iterations.\n",
    "    if(i%2 == 0):\n",
    "        print(employees[i])"
   ]
  },
  {
   "cell_type": "code",
   "execution_count": 6,
   "metadata": {},
   "outputs": [
    {
     "name": "stdout",
     "output_type": "stream",
     "text": [
      "['John', 'Alex', 'Winston', 'John', 'Jimmy']\n"
     ]
    }
   ],
   "source": [
    "### Modifying Elements\n",
    "employees[3] = 'John'\n",
    "employees[-1] = 'Jimmy'\n",
    "print(employees)"
   ]
  },
  {
   "cell_type": "code",
   "execution_count": 7,
   "metadata": {},
   "outputs": [
    {
     "name": "stdout",
     "output_type": "stream",
     "text": [
      "['John', 'Alex', 'Ozai', 'Winston', 'John', 'Jimmy']\n"
     ]
    }
   ],
   "source": [
    "### Adding Elements\n",
    "# employees.append(\"Elfaba\")\n",
    "\n",
    "employees.insert(2, \"Ozai\")\n",
    "print(employees)"
   ]
  },
  {
   "cell_type": "code",
   "execution_count": 8,
   "metadata": {},
   "outputs": [
    {
     "data": {
      "text/plain": [
       "[]"
      ]
     },
     "execution_count": 8,
     "metadata": {},
     "output_type": "execute_result"
    }
   ],
   "source": [
    "### Removing Elements\n",
    "# employees.pop() \n",
    "\n",
    "# employees.remove(\"Ozai\")\n",
    "\n",
    "# del employees[-1]\n",
    "\n",
    "employees.clear()\n",
    "employees"
   ]
  },
  {
   "cell_type": "markdown",
   "metadata": {},
   "source": [
    "### Tuples"
   ]
  },
  {
   "cell_type": "markdown",
   "metadata": {},
   "source": [
    "Tuples are another collection data type in Python. There are several key differences between lists and tuples:\n",
    "- Tuples are ordered collections, so order cannot be rearranged or modified.\n",
    "- Since tuples are ordered collections $(a, b) \\neq (b, a)$\n",
    "- They are declared and denoted using parentheses $( ...)$"
   ]
  },
  {
   "cell_type": "code",
   "execution_count": 9,
   "metadata": {},
   "outputs": [],
   "source": [
    "### Declaration\n",
    "pix1_colors = (255, 0 , 0)  ## In image processing, this is called a tuple consisting of channels. \n",
    "                            ##It is structured as (Red, Green, Blue) such that the values in each channe; ranges from 0 - 255 \n",
    "pix2_colors = (64, 128, 111)"
   ]
  },
  {
   "cell_type": "code",
   "execution_count": 10,
   "metadata": {},
   "outputs": [
    {
     "data": {
      "text/plain": [
       "128"
      ]
     },
     "execution_count": 10,
     "metadata": {},
     "output_type": "execute_result"
    }
   ],
   "source": [
    "### Single Access\n",
    "green = pix2_colors[1]\n",
    "green"
   ]
  },
  {
   "cell_type": "code",
   "execution_count": 11,
   "metadata": {},
   "outputs": [
    {
     "ename": "TypeError",
     "evalue": "'tuple' object does not support item assignment",
     "output_type": "error",
     "traceback": [
      "\u001b[1;31m---------------------------------------------------------------------------\u001b[0m",
      "\u001b[1;31mTypeError\u001b[0m                                 Traceback (most recent call last)",
      "\u001b[1;32m<ipython-input-11-92279de707a4>\u001b[0m in \u001b[0;36m<module>\u001b[1;34m\u001b[0m\n\u001b[1;32m----> 1\u001b[1;33m \u001b[0mpix1_colors\u001b[0m\u001b[1;33m[\u001b[0m\u001b[1;36m2\u001b[0m\u001b[1;33m]\u001b[0m \u001b[1;33m=\u001b[0m \u001b[1;36m128\u001b[0m\u001b[1;33m\u001b[0m\u001b[1;33m\u001b[0m\u001b[0m\n\u001b[0m",
      "\u001b[1;31mTypeError\u001b[0m: 'tuple' object does not support item assignment"
     ]
    }
   ],
   "source": [
    "pix1_colors[2] = 128"
   ]
  },
  {
   "cell_type": "code",
   "execution_count": null,
   "metadata": {},
   "outputs": [],
   "source": [
    "### Multiple Access\n",
    "pix2_colors[::2]"
   ]
  },
  {
   "cell_type": "code",
   "execution_count": 12,
   "metadata": {},
   "outputs": [
    {
     "name": "stdout",
     "output_type": "stream",
     "text": [
      "64\n",
      "128\n",
      "111\n"
     ]
    }
   ],
   "source": [
    "### Multiple Access via Loops\n",
    "for color in pix2_colors:\n",
    "    print(color)"
   ]
  },
  {
   "cell_type": "code",
   "execution_count": 13,
   "metadata": {},
   "outputs": [
    {
     "name": "stdout",
     "output_type": "stream",
     "text": [
      "Coordinates of cars in ordered pair form: (3, 0)\n",
      "Coordinates of cars in ordered pair form: (5, 1)\n",
      "Coordinates of cars in ordered pair form: (12, 5)\n",
      "Coordinates of cars in ordered pair form: (15, 2)\n"
     ]
    }
   ],
   "source": [
    "car_xpos = (3, 5, 12, 15)\n",
    "car_ypos = (0, 1, 5, 2)\n",
    "### Multiple Access via Parallel Iteration\n",
    "for pos in zip(car_xpos, car_ypos):\n",
    "    print(f'Coordinates of cars in ordered pair form: {pos}')"
   ]
  },
  {
   "cell_type": "code",
   "execution_count": 14,
   "metadata": {},
   "outputs": [
    {
     "name": "stdout",
     "output_type": "stream",
     "text": [
      "(255, 64)\n",
      "(0, 128)\n",
      "(0, 111)\n"
     ]
    }
   ],
   "source": [
    "for px_colors in zip(pix1_colors, pix2_colors):\n",
    "    print(px_colors)"
   ]
  },
  {
   "cell_type": "code",
   "execution_count": 15,
   "metadata": {},
   "outputs": [
    {
     "ename": "TypeError",
     "evalue": "'tuple' object does not support item assignment",
     "output_type": "error",
     "traceback": [
      "\u001b[1;31m---------------------------------------------------------------------------\u001b[0m",
      "\u001b[1;31mTypeError\u001b[0m                                 Traceback (most recent call last)",
      "\u001b[1;32m<ipython-input-15-9e3d25433a12>\u001b[0m in \u001b[0;36m<module>\u001b[1;34m\u001b[0m\n\u001b[0;32m      1\u001b[0m \u001b[1;31m### Modifying Elements\u001b[0m\u001b[1;33m\u001b[0m\u001b[1;33m\u001b[0m\u001b[1;33m\u001b[0m\u001b[0m\n\u001b[0;32m      2\u001b[0m \u001b[1;33m\u001b[0m\u001b[0m\n\u001b[1;32m----> 3\u001b[1;33m \u001b[0mcar_xpos\u001b[0m\u001b[1;33m[\u001b[0m\u001b[1;36m0\u001b[0m\u001b[1;33m]\u001b[0m \u001b[1;33m=\u001b[0m \u001b[1;36m0\u001b[0m\u001b[1;33m\u001b[0m\u001b[1;33m\u001b[0m\u001b[0m\n\u001b[0m",
      "\u001b[1;31mTypeError\u001b[0m: 'tuple' object does not support item assignment"
     ]
    }
   ],
   "source": [
    "### Modifying Elements\n",
    "\n",
    "car_xpos[0] = 0\n"
   ]
  },
  {
   "cell_type": "code",
   "execution_count": 16,
   "metadata": {},
   "outputs": [
    {
     "ename": "TypeError",
     "evalue": "'tuple' object doesn't support item deletion",
     "output_type": "error",
     "traceback": [
      "\u001b[1;31m---------------------------------------------------------------------------\u001b[0m",
      "\u001b[1;31mTypeError\u001b[0m                                 Traceback (most recent call last)",
      "\u001b[1;32m<ipython-input-16-531563a974fc>\u001b[0m in \u001b[0;36m<module>\u001b[1;34m\u001b[0m\n\u001b[0;32m      1\u001b[0m \u001b[1;31m### Removing Elements\u001b[0m\u001b[1;33m\u001b[0m\u001b[1;33m\u001b[0m\u001b[1;33m\u001b[0m\u001b[0m\n\u001b[0;32m      2\u001b[0m \u001b[1;33m\u001b[0m\u001b[0m\n\u001b[1;32m----> 3\u001b[1;33m \u001b[1;32mdel\u001b[0m \u001b[0mpix1_colors\u001b[0m\u001b[1;33m[\u001b[0m\u001b[1;36m0\u001b[0m\u001b[1;33m]\u001b[0m\u001b[1;33m\u001b[0m\u001b[1;33m\u001b[0m\u001b[0m\n\u001b[0m",
      "\u001b[1;31mTypeError\u001b[0m: 'tuple' object doesn't support item deletion"
     ]
    }
   ],
   "source": [
    "### Removing Elements\n",
    "\n",
    "del pix1_colors[0]\n"
   ]
  },
  {
   "cell_type": "code",
   "execution_count": 17,
   "metadata": {},
   "outputs": [
    {
     "data": {
      "text/plain": [
       "(3, 5, 12, 15, 0, 1, 5, 2)"
      ]
     },
     "execution_count": 17,
     "metadata": {},
     "output_type": "execute_result"
    }
   ],
   "source": [
    "### Merging Tuples\n",
    "car_pos = car_xpos + car_ypos\n",
    "car_pos"
   ]
  },
  {
   "cell_type": "markdown",
   "metadata": {},
   "source": [
    "### Sets"
   ]
  },
  {
   "cell_type": "markdown",
   "metadata": {},
   "source": [
    "Sets are collections which are unordered and unindexed. Repititions are not allowed in set structures and they are denoted by curly brackets $\\{ ... \\}$."
   ]
  },
  {
   "cell_type": "code",
   "execution_count": 18,
   "metadata": {},
   "outputs": [],
   "source": [
    "### Declaration\n",
    "bakery_A = {'bread', 'cracker', 'croissant', 'eclair', 'parfait','cannele', 'coffee','tea'}\n",
    "bakery_B = {'bread', 'croissant', 'donuts', 'cinnamon roll', 'cookies','coffee','tea'}\n",
    "bakery_C = {'bread', 'bread', 'bread'}"
   ]
  },
  {
   "cell_type": "code",
   "execution_count": 19,
   "metadata": {},
   "outputs": [
    {
     "name": "stdout",
     "output_type": "stream",
     "text": [
      "{'bread'}\n"
     ]
    }
   ],
   "source": [
    "print(bakery_C)"
   ]
  },
  {
   "cell_type": "code",
   "execution_count": 20,
   "metadata": {},
   "outputs": [
    {
     "ename": "TypeError",
     "evalue": "'set' object is not subscriptable",
     "output_type": "error",
     "traceback": [
      "\u001b[1;31m---------------------------------------------------------------------------\u001b[0m",
      "\u001b[1;31mTypeError\u001b[0m                                 Traceback (most recent call last)",
      "\u001b[1;32m<ipython-input-20-f0826fdf6907>\u001b[0m in \u001b[0;36m<module>\u001b[1;34m\u001b[0m\n\u001b[0;32m      1\u001b[0m \u001b[1;31m### Accessing Elements\u001b[0m\u001b[1;33m\u001b[0m\u001b[1;33m\u001b[0m\u001b[1;33m\u001b[0m\u001b[0m\n\u001b[1;32m----> 2\u001b[1;33m \u001b[0mbakery_A\u001b[0m\u001b[1;33m[\u001b[0m\u001b[1;36m0\u001b[0m\u001b[1;33m]\u001b[0m\u001b[1;33m\u001b[0m\u001b[1;33m\u001b[0m\u001b[0m\n\u001b[0m",
      "\u001b[1;31mTypeError\u001b[0m: 'set' object is not subscriptable"
     ]
    }
   ],
   "source": [
    "### Accessing Elements\n",
    "bakery_A[0]"
   ]
  },
  {
   "cell_type": "code",
   "execution_count": 21,
   "metadata": {},
   "outputs": [
    {
     "name": "stdout",
     "output_type": "stream",
     "text": [
      "croissant\n",
      "cracker\n",
      "tea\n",
      "bread\n",
      "coffee\n",
      "parfait\n",
      "cannele\n",
      "eclair\n"
     ]
    }
   ],
   "source": [
    "### Multiple Access via Loops\n",
    "for product in bakery_A:\n",
    "    print(product)"
   ]
  },
  {
   "cell_type": "code",
   "execution_count": 22,
   "metadata": {},
   "outputs": [
    {
     "name": "stdout",
     "output_type": "stream",
     "text": [
      "{'croissant', 'cracker', 'tea', 'bread', 'coffee', 'parfait', 'cannele', 'eclair'}\n",
      "{'croissant', 'cracker', 'tea', 'bread', 'coffee', 'parfait', 'eclair'}\n"
     ]
    }
   ],
   "source": [
    "### Removing an Element\n",
    "print(bakery_A)\n",
    "bakery_A.remove('cannele')\n",
    "print(bakery_A)"
   ]
  },
  {
   "cell_type": "code",
   "execution_count": 23,
   "metadata": {},
   "outputs": [
    {
     "data": {
      "text/plain": [
       "False"
      ]
     },
     "execution_count": 23,
     "metadata": {},
     "output_type": "execute_result"
    }
   ],
   "source": [
    "### Membership\n",
    "# print('cannele' in bakery_A)\n",
    "### Subsets\n",
    "order = {'coffee', 'tea', 'donuts'}\n",
    "order.issubset(bakery_A)"
   ]
  },
  {
   "cell_type": "code",
   "execution_count": 24,
   "metadata": {},
   "outputs": [
    {
     "name": "stdout",
     "output_type": "stream",
     "text": [
      "{'croissant', 'cracker', 'tea', 'bread', 'coffee', 'parfait', 'eclair'}\n",
      "{'croissant', 'cinnamon roll', 'tea', 'bread', 'coffee', 'cookies', 'donuts'}\n"
     ]
    },
    {
     "data": {
      "text/plain": [
       "{'bread',\n",
       " 'cinnamon roll',\n",
       " 'coffee',\n",
       " 'cookies',\n",
       " 'cracker',\n",
       " 'croissant',\n",
       " 'donuts',\n",
       " 'eclair',\n",
       " 'parfait',\n",
       " 'tea'}"
      ]
     },
     "execution_count": 24,
     "metadata": {},
     "output_type": "execute_result"
    }
   ],
   "source": [
    "### Union\n",
    "print(bakery_A)\n",
    "print(bakery_B)\n",
    "baker_st = bakery_A.union(bakery_B)\n",
    "baker_st"
   ]
  },
  {
   "cell_type": "code",
   "execution_count": 25,
   "metadata": {},
   "outputs": [
    {
     "data": {
      "text/plain": [
       "{'bread', 'coffee', 'croissant', 'tea'}"
      ]
     },
     "execution_count": 25,
     "metadata": {},
     "output_type": "execute_result"
    }
   ],
   "source": [
    "### Intersection\n",
    "bakery_A.intersection(bakery_B)"
   ]
  },
  {
   "cell_type": "code",
   "execution_count": 26,
   "metadata": {},
   "outputs": [
    {
     "data": {
      "text/plain": [
       "{'cinnamon roll', 'cookies', 'donuts'}"
      ]
     },
     "execution_count": 26,
     "metadata": {},
     "output_type": "execute_result"
    }
   ],
   "source": [
    "### Difference\n",
    "### Unique elements that is in Bakery but not in Bakery B\n",
    "bakery_B.difference(bakery_A)"
   ]
  },
  {
   "cell_type": "markdown",
   "metadata": {},
   "source": [
    "### Dictionaries"
   ]
  },
  {
   "cell_type": "markdown",
   "metadata": {},
   "source": [
    "Dictionaries are collections which is unordered, changeable like sets but are indexed. Like sets, they are denoted witn $\\{...\\}$ but objects are characterized by <b>keys</b> and described using <b>values</b>."
   ]
  },
  {
   "cell_type": "code",
   "execution_count": 27,
   "metadata": {},
   "outputs": [],
   "source": [
    "### Declaration\n",
    "bakery_A_prices = {'bread' : 60, \n",
    "            'cracker': 15, \n",
    "            'croissant': 40, \n",
    "           }"
   ]
  },
  {
   "cell_type": "code",
   "execution_count": 28,
   "metadata": {},
   "outputs": [
    {
     "data": {
      "text/plain": [
       "60"
      ]
     },
     "execution_count": 28,
     "metadata": {},
     "output_type": "execute_result"
    }
   ],
   "source": [
    "## Accessing\n",
    "bakery_A_prices['bread']"
   ]
  },
  {
   "cell_type": "code",
   "execution_count": 29,
   "metadata": {},
   "outputs": [
    {
     "name": "stdout",
     "output_type": "stream",
     "text": [
      "bread\n",
      "cracker\n",
      "croissant\n"
     ]
    }
   ],
   "source": [
    "## Accessing via Loops\n",
    "for product in bakery_A_prices:\n",
    "    print(product)"
   ]
  },
  {
   "cell_type": "code",
   "execution_count": 30,
   "metadata": {},
   "outputs": [
    {
     "name": "stdout",
     "output_type": "stream",
     "text": [
      "60\n",
      "15\n",
      "40\n"
     ]
    }
   ],
   "source": [
    "for product in bakery_A_prices:\n",
    "    print(bakery_A_prices[product])"
   ]
  },
  {
   "cell_type": "code",
   "execution_count": 31,
   "metadata": {},
   "outputs": [
    {
     "name": "stdout",
     "output_type": "stream",
     "text": [
      "60\n",
      "15\n",
      "40\n"
     ]
    }
   ],
   "source": [
    "for price in bakery_A_prices.values():\n",
    "    print(price)"
   ]
  },
  {
   "cell_type": "code",
   "execution_count": 32,
   "metadata": {},
   "outputs": [
    {
     "name": "stdout",
     "output_type": "stream",
     "text": [
      "bread 60\n",
      "cracker 15\n",
      "croissant 40\n"
     ]
    }
   ],
   "source": [
    "for product, price in bakery_A_prices.items():\n",
    "    print(product, price)"
   ]
  },
  {
   "cell_type": "code",
   "execution_count": 33,
   "metadata": {},
   "outputs": [
    {
     "name": "stdout",
     "output_type": "stream",
     "text": [
      "60\n",
      "48.0\n"
     ]
    }
   ],
   "source": [
    "## Update / Modification\n",
    "print(bakery_A_prices['bread'])\n",
    "bakery_A_prices['bread'] *= 0.8\n",
    "print(bakery_A_prices['bread'])"
   ]
  },
  {
   "cell_type": "code",
   "execution_count": 34,
   "metadata": {},
   "outputs": [
    {
     "name": "stdout",
     "output_type": "stream",
     "text": [
      "{'bread': 48.0, 'cracker': 15, 'croissant': 40}\n",
      "{'bread': 48.0, 'cracker': 15, 'croissant': 40, 'coffee': 110}\n"
     ]
    }
   ],
   "source": [
    "## Adding Elements\n",
    "print(bakery_A_prices)\n",
    "bakery_A_prices['coffee'] = 110\n",
    "print(bakery_A_prices)"
   ]
  },
  {
   "cell_type": "code",
   "execution_count": 35,
   "metadata": {},
   "outputs": [
    {
     "name": "stdout",
     "output_type": "stream",
     "text": [
      "{'bread': 48.0, 'cracker': 15, 'croissant': 40, 'coffee': 110}\n",
      "15\n",
      "{'bread': 48.0, 'croissant': 40, 'coffee': 110}\n"
     ]
    }
   ],
   "source": [
    "## Removing Elements\n",
    "print(bakery_A_prices)\n",
    "print(bakery_A_prices.pop('cracker'))\n",
    "print(bakery_A_prices)"
   ]
  },
  {
   "cell_type": "markdown",
   "metadata": {},
   "source": [
    "## Dataset Operations"
   ]
  },
  {
   "cell_type": "markdown",
   "metadata": {},
   "source": [
    "For this section, we will use the sets below to practice some practical dataset operations."
   ]
  },
  {
   "cell_type": "code",
   "execution_count": 32,
   "metadata": {},
   "outputs": [],
   "source": [
    "cpe_courses = [\"Object-Oriented Programming\", \"Data Structures and Algorithms\", \"Discrete Mathematics\", \"Linear Algebra\",\n",
    "               \"Database Management\",\"Logic Circuits\", \"Computer Automation\",\"Digital Signals Processing\", \"Computer System Architecture and Organization\"]\n",
    "cs_courses = [\"Object-Oriented Programming\", \"Data Structures and Algorithms\", \"Automata\", \"Programming Language Theory\",\n",
    "             \"Discrete Mathematics\", \"Database Management\", \"Human Computer Interaction\", \"Information Security\", \"Information Management\"]"
   ]
  },
  {
   "cell_type": "code",
   "execution_count": 35,
   "metadata": {},
   "outputs": [],
   "source": [
    "cpe = set(cpe_courses)\n",
    "cs = set(cs_courses)\n"
   ]
  },
  {
   "cell_type": "markdown",
   "metadata": {},
   "source": [
    "### Inner Join"
   ]
  },
  {
   "cell_type": "code",
   "execution_count": 40,
   "metadata": {},
   "outputs": [
    {
     "data": {
      "text/plain": [
       "{'Data Structures and Algorithms',\n",
       " 'Database Management',\n",
       " 'Discrete Mathematics',\n",
       " 'Object-Oriented Programming'}"
      ]
     },
     "execution_count": 40,
     "metadata": {},
     "output_type": "execute_result"
    }
   ],
   "source": [
    "## Find the common things between the sets\n",
    "## Intersection\n",
    "common = cpe.intersection(cs)\n",
    "common ## inner join"
   ]
  },
  {
   "cell_type": "markdown",
   "metadata": {},
   "source": [
    "### Left Join"
   ]
  },
  {
   "cell_type": "code",
   "execution_count": 41,
   "metadata": {},
   "outputs": [
    {
     "data": {
      "text/plain": [
       "{'Computer Automation',\n",
       " 'Computer System Architecture and Organization',\n",
       " 'Data Structures and Algorithms',\n",
       " 'Database Management',\n",
       " 'Digital Signals Processing',\n",
       " 'Discrete Mathematics',\n",
       " 'Linear Algebra',\n",
       " 'Logic Circuits',\n",
       " 'Object-Oriented Programming'}"
      ]
     },
     "execution_count": 41,
     "metadata": {},
     "output_type": "execute_result"
    }
   ],
   "source": [
    "cpe_ljoin = common.union(cpe)\n",
    "cpe_ljoin"
   ]
  },
  {
   "cell_type": "markdown",
   "metadata": {},
   "source": [
    "### Right Join"
   ]
  },
  {
   "cell_type": "code",
   "execution_count": 42,
   "metadata": {},
   "outputs": [
    {
     "data": {
      "text/plain": [
       "{'Automata',\n",
       " 'Data Structures and Algorithms',\n",
       " 'Database Management',\n",
       " 'Discrete Mathematics',\n",
       " 'Human Computer Interaction',\n",
       " 'Information Management',\n",
       " 'Information Security',\n",
       " 'Object-Oriented Programming',\n",
       " 'Programming Language Theory'}"
      ]
     },
     "execution_count": 42,
     "metadata": {},
     "output_type": "execute_result"
    }
   ],
   "source": [
    "cs_rjoin = common.union(cs)\n",
    "cs_rjoin"
   ]
  },
  {
   "cell_type": "markdown",
   "metadata": {},
   "source": [
    "### Left Exclusive Join"
   ]
  },
  {
   "cell_type": "code",
   "execution_count": 45,
   "metadata": {},
   "outputs": [
    {
     "data": {
      "text/plain": [
       "{'Computer Automation',\n",
       " 'Computer System Architecture and Organization',\n",
       " 'Digital Signals Processing',\n",
       " 'Linear Algebra',\n",
       " 'Logic Circuits'}"
      ]
     },
     "execution_count": 45,
     "metadata": {},
     "output_type": "execute_result"
    }
   ],
   "source": [
    "cpe_exljoin = cpe.difference(cs)\n",
    "cpe_exljoin"
   ]
  },
  {
   "cell_type": "markdown",
   "metadata": {},
   "source": [
    "### Right Exclusive Join"
   ]
  },
  {
   "cell_type": "code",
   "execution_count": 46,
   "metadata": {},
   "outputs": [
    {
     "data": {
      "text/plain": [
       "{'Automata',\n",
       " 'Human Computer Interaction',\n",
       " 'Information Management',\n",
       " 'Information Security',\n",
       " 'Programming Language Theory'}"
      ]
     },
     "execution_count": 46,
     "metadata": {},
     "output_type": "execute_result"
    }
   ],
   "source": [
    "cs_exrjoin = cs.difference(cpe)\n",
    "cs_exrjoin"
   ]
  },
  {
   "cell_type": "markdown",
   "metadata": {},
   "source": [
    "### Full Outer Join"
   ]
  },
  {
   "cell_type": "code",
   "execution_count": 47,
   "metadata": {},
   "outputs": [
    {
     "data": {
      "text/plain": [
       "{'Automata',\n",
       " 'Computer Automation',\n",
       " 'Computer System Architecture and Organization',\n",
       " 'Data Structures and Algorithms',\n",
       " 'Database Management',\n",
       " 'Digital Signals Processing',\n",
       " 'Discrete Mathematics',\n",
       " 'Human Computer Interaction',\n",
       " 'Information Management',\n",
       " 'Information Security',\n",
       " 'Linear Algebra',\n",
       " 'Logic Circuits',\n",
       " 'Object-Oriented Programming',\n",
       " 'Programming Language Theory'}"
      ]
     },
     "execution_count": 47,
     "metadata": {},
     "output_type": "execute_result"
    }
   ],
   "source": [
    "## Union\n",
    "full_outer = cpe.union(cs)\n",
    "full_outer"
   ]
  },
  {
   "cell_type": "markdown",
   "metadata": {},
   "source": [
    "### Full Outer Exclusive Join"
   ]
  },
  {
   "cell_type": "code",
   "execution_count": 48,
   "metadata": {},
   "outputs": [
    {
     "data": {
      "text/plain": [
       "{'Automata',\n",
       " 'Computer Automation',\n",
       " 'Computer System Architecture and Organization',\n",
       " 'Digital Signals Processing',\n",
       " 'Human Computer Interaction',\n",
       " 'Information Management',\n",
       " 'Information Security',\n",
       " 'Linear Algebra',\n",
       " 'Logic Circuits',\n",
       " 'Programming Language Theory'}"
      ]
     },
     "execution_count": 48,
     "metadata": {},
     "output_type": "execute_result"
    }
   ],
   "source": [
    "## XOR\n",
    "full_xouter = (cpe.difference(cs)).union(cs.difference(cpe))\n",
    "full_xouter"
   ]
  },
  {
   "cell_type": "markdown",
   "metadata": {},
   "source": [
    "## Scratch Area"
   ]
  },
  {
   "cell_type": "markdown",
   "metadata": {},
   "source": [
    "You can use the area below to try your own code."
   ]
  },
  {
   "cell_type": "markdown",
   "metadata": {},
   "source": [
    "### Lists"
   ]
  },
  {
   "cell_type": "code",
   "execution_count": 1,
   "metadata": {},
   "outputs": [
    {
     "name": "stdout",
     "output_type": "stream",
     "text": [
      "Sunny\n",
      "------------------------\n",
      "['Ruiz', 'Rovil', 'Troy']\n",
      "------------------------\n",
      "Hello Ruiz\n",
      "Hello Nicole\n",
      "Hello Rovil\n",
      "Hello Gala\n",
      "Hello Troy\n",
      "Hello Guy\n",
      "Hello Myke\n",
      "Hello Marc\n",
      "Hello Aquino\n",
      "Hello Escobar\n",
      "Hello Cale\n",
      "Hello Parco\n",
      "Hello Guzman\n",
      "Hello Vitales\n",
      "Hello Jude\n",
      "Hello Chi\n",
      "Hello Luyon\n",
      "Hello Sunny\n",
      "------------------------\n",
      "Sunny\n",
      "['Ruiz', 'Nicole', 'Rovil', 'Gala', 'Troy', 'Guy', 'Myke', 'Marc', 'Aquino', 'Escobar', 'Cale', 'Parco', 'Guzman', 'Vitales', 'Jude', 'Chi', 'Luyon']\n",
      "------------------------\n",
      "['Mai', 'Ruiz', 'Nicole', 'Rovil', 'Gala', 'Troy', 'Guy', 'Myke', 'Marc', 'Aquino', 'Escobar', 'Cale', 'Parco', 'Guzman', 'Vitales', 'Jude', 'Chi', 'Luyon']\n",
      "------------------------\n"
     ]
    }
   ],
   "source": [
    "\n",
    "Students = [\"Ruiz\", \"Nicole\", \"Rovil\", \"Gala\", \"Troy\", \"Guy\", \"Myke\", \"Marc\", \"Aquino\", \"Escobar\", \"Cale\", \"Parco\", \"Guzman\", \"Vitales\", \"Jude\", \"Chi\", \"Luyon\", \"Sunny\"]\n",
    "#single access\n",
    "\n",
    "print(Students[-1])\n",
    "print(\"------------------------\")\n",
    "\n",
    "#multiple access\n",
    "\n",
    "print(Students[0:5:2])\n",
    "print(\"------------------------\")\n",
    "\n",
    "#Using loop\n",
    "\n",
    "for charac in Students:\n",
    "    print(\"Hello\", charac)\n",
    "print(\"------------------------\")\n",
    "\n",
    "#Removing Elements\n",
    "print(Students.pop()) \n",
    "print(Students)\n",
    "print(\"------------------------\")\n",
    "\n",
    "#Adding elements\n",
    "Students.insert(0,\"Mai\")\n",
    "print(Students)\n",
    "print(\"------------------------\")\n",
    "\n",
    "\n",
    "### Removing Elements\n",
    "# employees.pop() \n",
    "\n",
    "# employees.remove(\"Ozai\")\n",
    "\n",
    "# del employees[-1]"
   ]
  },
  {
   "cell_type": "markdown",
   "metadata": {},
   "source": [
    "### Tuples"
   ]
  },
  {
   "cell_type": "code",
   "execution_count": 7,
   "metadata": {},
   "outputs": [
    {
     "name": "stdout",
     "output_type": "stream",
     "text": [
      "student gamers: ('Ruiz', 'Troy')\n",
      "student gamers: ('Nicole', 'Guy')\n",
      "student gamers: ('Rovil', 'Myke')\n",
      "student gamers: ('Gala', 'Chi')\n",
      "student gamers: ('Troy', 'Jude')\n",
      "student gamers: ('Guy', 'Ruiz')\n",
      "student gamers: ('Myke', 'Luyon')\n",
      "student gamers: ('Marc', 'Sunny')\n",
      "------------------------\n",
      "('Ruiz', 'Nicole', 'Rovil', 'Gala', 'Troy', 'Guy', 'Myke', 'Marc', 'Aquino', 'Escobar', 'Cale', 'Parco', 'Guzman', 'Vitales', 'Jude', 'Chi', 'Luyon', 'Sunny', 'Troy', 'Guy', 'Myke', 'Chi', 'Jude', 'Ruiz', 'Luyon', 'Sunny')\n"
     ]
    }
   ],
   "source": [
    "# Multiple Access via Parallel Iteration\n",
    "\n",
    "Students = (\"Ruiz\", \"Nicole\", \"Rovil\", \"Gala\", \"Troy\", \"Guy\", \"Myke\", \"Marc\", \"Aquino\", \"Escobar\", \"Cale\", \"Parco\", \"Guzman\", \"Vitales\", \"Jude\", \"Chi\", \"Luyon\", \"Sunny\")\n",
    "Gamers = (\"Troy\", \"Guy\", \"Myke\", \"Chi\", \"Jude\", \"Ruiz\", \"Luyon\", \"Sunny\")\n",
    "for charac in zip(Students,Gamers ):\n",
    "    print(f'student gamers: {charac}')\n",
    "print(\"------------------------\")\n",
    "    \n",
    "# Merging Tuples\n",
    "All_student_gamers = Students + Gamers\n",
    "print(All_student_gamers)\n"
   ]
  },
  {
   "cell_type": "markdown",
   "metadata": {},
   "source": [
    "### Sets"
   ]
  },
  {
   "cell_type": "code",
   "execution_count": 6,
   "metadata": {},
   "outputs": [
    {
     "name": "stdout",
     "output_type": "stream",
     "text": [
      "{'Chi', 'Aquino', 'Myke', 'Guy', 'Nicole', 'Guzman', 'Sunny', 'Gala', 'Ruiz', 'Vitales', 'Jude', 'Troy', 'Escobar', 'Parco', 'Luyon', 'Cale', 'Marc', 'Rovil'}\n",
      "------------------------\n",
      "{'Myke', 'Guy', 'Sunny', 'Ruiz', 'Jude', 'Troy', 'Chi', 'Luyon'}\n",
      "------------------------\n",
      "{'Marc', 'Gala', 'Ruiz', 'Troy', 'Escobar', 'Chi', 'Rovil', 'Myke', 'Guy', 'Nicole', 'Guzman', 'Sunny', 'Vitales', 'Jude', 'Parco', 'Luyon', 'Cale', 'Aquino'}\n",
      "------------------------\n",
      "{'Myke', 'Guy', 'Sunny', 'Ruiz', 'Jude', 'Troy', 'Chi', 'Luyon'}\n",
      "------------------------\n"
     ]
    }
   ],
   "source": [
    "PcStore_A = {'Motherboards', 'RAM', 'Monitor', 'PSU', 'GPU','CPU'}\n",
    "PcStore_B = {'Webcams', 'SSD', 'Speakers', 'Monitor', 'Keyboards','Mouse'}\n",
    "\n",
    "Students = {\"Ruiz\", \"Nicole\", \"Rovil\", \"Gala\", \"Troy\", \"Guy\", \"Myke\", \"Marc\", \"Aquino\", \"Escobar\", \"Cale\", \"Parco\", \"Guzman\", \"Vitales\", \"Jude\", \"Chi\", \"Luyon\", \"Sunny\"}\n",
    "Gamers = {\"Troy\", \"Guy\", \"Myke\", \"Chi\", \"Jude\", \"Ruiz\", \"Luyon\", \"Sunny\"}\n",
    "\n",
    "### Union\n",
    "print(Students)\n",
    "print(\"------------------------\")\n",
    "print(Gamers)\n",
    "print(\"------------------------\")\n",
    "\n",
    "all_students_gamers = Students.union(Gamers)\n",
    "print(all_students_gamers)\n",
    "print(\"------------------------\")\n",
    "\n",
    "### Intersection\n",
    "intersection = Students.intersection(Gamers)\n",
    "print(intersection)\n",
    "print(\"------------------------\")"
   ]
  },
  {
   "cell_type": "markdown",
   "metadata": {},
   "source": [
    "### Dictionaries"
   ]
  },
  {
   "cell_type": "code",
   "execution_count": 67,
   "metadata": {},
   "outputs": [
    {
     "name": "stdout",
     "output_type": "stream",
     "text": [
      "10500\n",
      "------------------------\n",
      "Motherboards\n",
      "RAM\n",
      "Monitor\n",
      "PSU\n",
      "GPU\n",
      "CPU\n",
      "------------------------\n",
      "6000\n",
      "4000\n",
      "10000\n",
      "5500\n",
      "23000\n",
      "10500\n",
      "------------------------\n",
      "Motherboards 6000\n",
      "RAM 4000\n",
      "Monitor 10000\n",
      "PSU 5500\n",
      "GPU 23000\n",
      "CPU 10500\n",
      "------------------------\n",
      "{'Motherboards': 6000, 'RAM': 4000, 'Monitor': 10000, 'PSU': 5500, 'GPU': 23000, 'CPU': 10500}\n",
      "{'Motherboards': 6000, 'RAM': 4000, 'Monitor': 10000, 'PSU': 5500, 'GPU': 23000, 'CPU': 10500, 'Nvme_ssd': 6000}\n"
     ]
    }
   ],
   "source": [
    "PcStore_A_prices = {'Motherboards' : 6000, \n",
    "            'RAM': 4000, \n",
    "            'Monitor': 10000, \n",
    "            'PSU': 5500, \n",
    "            'GPU': 23000, \n",
    "            'CPU': 10500, \n",
    "                   \n",
    "           }\n",
    "\n",
    "##Accessing\n",
    "Price_of_CPU = PcStore_A_prices ['CPU']\n",
    "print(Price_of_CPU)\n",
    "print(\"------------------------\")\n",
    "\n",
    "##Using loop to access\n",
    "for items in PcStore_A_prices :\n",
    "    print(items)\n",
    "print(\"------------------------\")\n",
    "\n",
    "for prices in PcStore_A_prices:\n",
    "    print(PcStore_A_prices[prices])\n",
    "print(\"------------------------\")\n",
    "\n",
    "for items,prices in PcStore_A_prices .items():\n",
    "    print(items,prices)\n",
    "print(\"------------------------\")\n",
    "\n",
    "##adiing element\n",
    "print(PcStore_A_prices )\n",
    "PcStore_A_prices ['Nvme_ssd'] = 6000\n",
    "print(PcStore_A_prices )"
   ]
  },
  {
   "cell_type": "markdown",
   "metadata": {},
   "source": [
    "## Dataset Operations"
   ]
  },
  {
   "cell_type": "code",
   "execution_count": 70,
   "metadata": {},
   "outputs": [],
   "source": [
    "PcStore_A = ['Motherboards', 'RAM', 'Monitor', 'PSU', 'GPU','CPU','HDD','SSD','Matx case','Wifi card','Ehternet cable']\n",
    "PcStore_B = ['Webcams', 'SSD', 'Speakers', 'Monitor', 'Keyboards','Mouse','Matx case','Wifi card','Ehternet cable']\n",
    "\n",
    "store_A = set(PcStore_A)\n",
    "store_B = set(PcStore_B)"
   ]
  },
  {
   "cell_type": "code",
   "execution_count": 71,
   "metadata": {},
   "outputs": [
    {
     "data": {
      "text/plain": [
       "{'Ehternet cable', 'Matx case', 'Monitor', 'SSD', 'Wifi card'}"
      ]
     },
     "execution_count": 71,
     "metadata": {},
     "output_type": "execute_result"
    }
   ],
   "source": [
    "## Find the common things between the sets\n",
    "## Intersection\n",
    "common = store_A.intersection(store_B)\n",
    "common ## inner join"
   ]
  },
  {
   "cell_type": "code",
   "execution_count": 72,
   "metadata": {},
   "outputs": [
    {
     "data": {
      "text/plain": [
       "{'Ehternet cable',\n",
       " 'Keyboards',\n",
       " 'Matx case',\n",
       " 'Monitor',\n",
       " 'Mouse',\n",
       " 'SSD',\n",
       " 'Speakers',\n",
       " 'Webcams',\n",
       " 'Wifi card'}"
      ]
     },
     "execution_count": 72,
     "metadata": {},
     "output_type": "execute_result"
    }
   ],
   "source": [
    "##Right join\n",
    "##Union\n",
    "\n",
    "store_B_rjoin = common.union(store_B)\n",
    "store_B_rjoin"
   ]
  },
  {
   "cell_type": "code",
   "execution_count": 73,
   "metadata": {},
   "outputs": [
    {
     "data": {
      "text/plain": [
       "{'CPU', 'GPU', 'HDD', 'Motherboards', 'PSU', 'RAM'}"
      ]
     },
     "execution_count": 73,
     "metadata": {},
     "output_type": "execute_result"
    }
   ],
   "source": [
    "##Left exclusive join\n",
    "##Difference\n",
    "\n",
    "store_A_exljoin = store_A.difference(store_B)\n",
    "store_A_exljoin"
   ]
  },
  {
   "cell_type": "code",
   "execution_count": 74,
   "metadata": {},
   "outputs": [
    {
     "data": {
      "text/plain": [
       "{'CPU',\n",
       " 'Ehternet cable',\n",
       " 'GPU',\n",
       " 'HDD',\n",
       " 'Keyboards',\n",
       " 'Matx case',\n",
       " 'Monitor',\n",
       " 'Motherboards',\n",
       " 'Mouse',\n",
       " 'PSU',\n",
       " 'RAM',\n",
       " 'SSD',\n",
       " 'Speakers',\n",
       " 'Webcams',\n",
       " 'Wifi card'}"
      ]
     },
     "execution_count": 74,
     "metadata": {},
     "output_type": "execute_result"
    }
   ],
   "source": [
    "##Full outer join\n",
    "## Union\n",
    "full_outer = store_A.union(store_B)\n",
    "full_outer"
   ]
  },
  {
   "cell_type": "code",
   "execution_count": 75,
   "metadata": {},
   "outputs": [
    {
     "data": {
      "text/plain": [
       "{'CPU',\n",
       " 'GPU',\n",
       " 'HDD',\n",
       " 'Keyboards',\n",
       " 'Motherboards',\n",
       " 'Mouse',\n",
       " 'PSU',\n",
       " 'RAM',\n",
       " 'Speakers',\n",
       " 'Webcams'}"
      ]
     },
     "execution_count": 75,
     "metadata": {},
     "output_type": "execute_result"
    }
   ],
   "source": [
    "##Full outer exclusive join\n",
    "## XOR\n",
    "full_xouter = (store_A.difference(store_B)).union(store_B.difference(store_A))\n",
    "full_xouter"
   ]
  }
 ],
 "metadata": {
  "kernelspec": {
   "display_name": "Python 3",
   "language": "python",
   "name": "python3"
  },
  "language_info": {
   "codemirror_mode": {
    "name": "ipython",
    "version": 3
   },
   "file_extension": ".py",
   "mimetype": "text/x-python",
   "name": "python",
   "nbconvert_exporter": "python",
   "pygments_lexer": "ipython3",
   "version": "3.8.3"
  }
 },
 "nbformat": 4,
 "nbformat_minor": 4
}
