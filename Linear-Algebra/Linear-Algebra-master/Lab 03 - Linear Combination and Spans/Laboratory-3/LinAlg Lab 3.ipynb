{
 "cells": [
  {
   "cell_type": "markdown",
   "metadata": {},
   "source": [
    "# Linear Algebra for CpE\n",
    "## Laboratory 3 : Linear Combination and Vector Spaces"
   ]
  },
  {
   "cell_type": "markdown",
   "metadata": {},
   "source": [
    "Now that you have a fundamental knowledge about linear combination, we'll try to visualize it using scientific programming."
   ]
  },
  {
   "cell_type": "markdown",
   "metadata": {},
   "source": [
    "### Objectives\n",
    "At the end of this activity you will be able to:\n",
    "1. Be familiar with representing linear combinations in the 2-dimensional plane.\n",
    "2. Visualize spans using vector fields in Python.\n",
    "3. Perform vector fields operations using scientific programming."
   ]
  },
  {
   "cell_type": "markdown",
   "metadata": {},
   "source": [
    "## Discussion"
   ]
  },
  {
   "cell_type": "code",
   "execution_count": 1,
   "metadata": {},
   "outputs": [],
   "source": [
    "import numpy as np\n",
    "import matplotlib.pyplot as plt\n",
    "%matplotlib inline\n",
    "import math"
   ]
  },
  {
   "cell_type": "markdown",
   "metadata": {},
   "source": [
    "## Linear Combination"
   ]
  },
  {
   "cell_type": "markdown",
   "metadata": {},
   "source": [
    "It is said that a linear combination is the combination of linear scaling and addition of a vector its bases/components"
   ]
  },
  {
   "cell_type": "markdown",
   "metadata": {},
   "source": [
    "We will try to visualize the vectors and their linear combinations by plotting a sample of real number values for the scalars for the vectors. Let's first try the vectors below:"
   ]
  },
  {
   "cell_type": "markdown",
   "metadata": {},
   "source": [
    "$$X = \\begin{bmatrix} 2\\\\5 \\\\\\end{bmatrix} , Y = \\begin{bmatrix} 7\\\\9 \\\\\\end{bmatrix} $$"
   ]
  },
  {
   "cell_type": "code",
   "execution_count": 2,
   "metadata": {},
   "outputs": [],
   "source": [
    "vectX =  np.array([2,5])\n",
    "vectY =  np.array([7,9])"
   ]
  },
  {
   "cell_type": "markdown",
   "metadata": {},
   "source": [
    "#### Span of single vectors"
   ]
  },
  {
   "cell_type": "markdown",
   "metadata": {},
   "source": [
    "As discussed in the lecture, the span of individual vectors can be represented by a line span. Let's take vector $X$ as an example."
   ]
  },
  {
   "cell_type": "markdown",
   "metadata": {},
   "source": [
    "$$X = c\\cdot \\begin{bmatrix} 2\\\\5 \\\\\\end{bmatrix} $$"
   ]
  },
  {
   "cell_type": "code",
   "execution_count": 3,
   "metadata": {},
   "outputs": [
    {
     "data": {
      "image/png": "[encoded data removed]",
      "text/plain": [
       "<Figure size 432x288 with 1 Axes>"
      ]
     },
     "metadata": {
      "needs_background": "light"
     },
     "output_type": "display_data"
    }
   ],
   "source": [
    "c = np.arange(-10,10,0.25)\n",
    "\n",
    "plt.scatter(c*vectX[0],c*vectX[1])\n",
    "\n",
    "\n",
    "plt.xlim(-10,10)\n",
    "plt.ylim(-10,10)\n",
    "plt.axhline(y=0, color='k')\n",
    "plt.axvline(x=0, color='k')\n",
    "plt.grid()\n",
    "plt.show()"
   ]
  },
  {
   "cell_type": "markdown",
   "metadata": {},
   "source": [
    "### Span of a linear combination of vectors"
   ]
  },
  {
   "cell_type": "markdown",
   "metadata": {},
   "source": [
    "So what if we are to plot the span of a linear combination of vectors? We can visualize as a plane on the 2-dimensional coordinate system. Let's take the span of the linear combination below:"
   ]
  },
  {
   "cell_type": "markdown",
   "metadata": {},
   "source": [
    "$$S = \\begin{Bmatrix} c_1 \\cdot\\begin{bmatrix} 1\\\\0 \\\\\\end{bmatrix}, \n",
    "c_2 \\cdot \\begin{bmatrix} 1\\\\-1 \\\\\\end{bmatrix}\\end{Bmatrix} $$"
   ]
  },
  {
   "cell_type": "code",
   "execution_count": 7,
   "metadata": {},
   "outputs": [
    {
     "data": {
      "image/png": "[encoded data removed]",
      "text/plain": [
       "<Figure size 432x288 with 1 Axes>"
      ]
     },
     "metadata": {
      "needs_background": "light"
     },
     "output_type": "display_data"
    }
   ],
   "source": [
    "vectA = np.array([1,0])\n",
    "vectB = np.array([1,-1])\n",
    "R = np.arange(-10,10,1)\n",
    "c1, c2 = np.meshgrid(R,R)\n",
    "vectR = vectA + vectB\n",
    "spanRx = c1*vectA[0] + c2*vectB[0]\n",
    "spanRy = c1*vectA[1] + c2*vectB[1]\n",
    "#plt.scatter(R*vectA[0],R*vectA[1])\n",
    "plt.scatter(spanRx,spanRy, s=5, alpha=0.75)\n",
    "\n",
    "plt.axhline(y=0, color='k')\n",
    "plt.axvline(x=0, color='k')\n",
    "plt.grid()\n",
    "plt.show()"
   ]
  },
  {
   "cell_type": "markdown",
   "metadata": {},
   "source": [
    "Take note that if vectors are seen to be as a 2-dimensional span we can say it has a Rank of 2 or $\\mathbb{R}^2$. But if the span of the linear combination of vectors are seen to be like a line, they are said to be <b> linearly dependent </b> and they have a rank of 1 or $\\mathbb{R}^1$."
   ]
  },
  {
   "cell_type": "markdown",
   "metadata": {},
   "source": [
    "# Activity"
   ]
  },
  {
   "cell_type": "markdown",
   "metadata": {},
   "source": [
    "### Task 1"
   ]
  },
  {
   "cell_type": "markdown",
   "metadata": {},
   "source": [
    "Try different linear combinations using different scalar values. In your methodology discuss the different functions that you have used, the  linear equation and vector form of the linear combination, and the flowchart for declaring and displaying linear combinations. Please make sure that your flowchart has only few words and not putting the entire code as it is bad practice. In your results, display and discuss the linear combination visualization you made. You should use the cells below for displaying the equation markdows using LaTeX and your code."
   ]
  },
  {
   "cell_type": "markdown",
   "metadata": {},
   "source": [
    "$$v_1 = c2x + c5y \\\\ v_2 = c_15x + c_14y \\\\ v_3 = c_210x + c_214y  $$ "
   ]
  },
  {
   "cell_type": "markdown",
   "metadata": {},
   "source": [
    "$$V_1 = c\\cdot \\begin{bmatrix} 2\\\\5 \\\\\\end{bmatrix} , V_2 = c_1\\cdot \\begin{bmatrix} 5\\\\4 \\\\\\end{bmatrix} , V_3 = c_2\\cdot \\begin{bmatrix} 10\\\\14 \\\\\\end{bmatrix} $$"
   ]
  },
  {
   "cell_type": "markdown",
   "metadata": {},
   "source": [
    "$$ Equation $$\n",
    "$$ cv_1 = c*v_1[0],c*v_1[1]     $$\n",
    "$$ c_1v_2 = c_1*v_2[0],c_1*v_2[1]    $$\n",
    "$$ c_2v_3 = c_2*v_3[0],c_2*v_3[1]    $$"
   ]
  },
  {
   "cell_type": "code",
   "execution_count": 86,
   "metadata": {},
   "outputs": [
    {
     "data": {
      "image/png": "[encoded data removed]",
      "text/plain": [
       "<Figure size 432x288 with 1 Axes>"
      ]
     },
     "metadata": {
      "needs_background": "light"
     },
     "output_type": "display_data"
    }
   ],
   "source": [
    "vect1 = np.array([2,5])\n",
    "vect2 = np.array([5,4])\n",
    "vect3 = np.array([10,14])\n",
    "\n",
    "#Can't put every value of c,arange some numbers from the given range\n",
    "c = np.arange(-20,20,0.5) \n",
    "c1 = np.arange(-15,15,0.5)\n",
    "c2 = np.arange(-5,5,0.5)\n",
    "#The #0.5 determines the step of produced numbers\n",
    "\n",
    "#x and y limit\n",
    "plt.xlim(-20,20)\n",
    "plt.ylim(-20,20)\n",
    "\n",
    "#present the x and y axis as black\n",
    "plt.axhline(y=0, color='k')\n",
    "plt.axvline(x=0, color='k')\n",
    "\n",
    "\n",
    "# multiplying scalar values to the unit of vectors or the individual vectors\n",
    "plt.scatter(c*vect1[0],c*vect1[1]) \n",
    "plt.scatter(c1*vect2[0],c1*vect2[1])\n",
    "plt.scatter(c2*vect3[0],c2*vect3[1]) \n",
    "\n",
    "\n",
    "#showing the plot\n",
    "#showting the grid\n",
    "plt.grid()\n",
    "plt.show()\n",
    "\n",
    "\n"
   ]
  },
  {
   "cell_type": "markdown",
   "metadata": {},
   "source": [
    "### Task 2"
   ]
  },
  {
   "cell_type": "markdown",
   "metadata": {},
   "source": [
    "Try making three unque spans using different linear combinations . In your methodology discuss the different functions that you have used, the  linear equations and vector form of span, and the flowchart for declaring and displaying span. Please make sure that your flowchart has only few words and not putting the entire code as it is bad practice. In your results, display and discuss the span visualization you made. You should use the cells below for displaying the equation markdows using LaTeX and your code."
   ]
  },
  {
   "cell_type": "markdown",
   "metadata": {},
   "source": [
    "$$c_1X = c_111x + c_15y \\\\ c_2Y = c_22x + c_212y$$"
   ]
  },
  {
   "cell_type": "markdown",
   "metadata": {},
   "source": [
    "$$S = \\begin{Bmatrix} c_1 \\cdot\\begin{bmatrix} 11\\\\5 \\\\\\end{bmatrix}, c_2 \\cdot \\begin{bmatrix} 2\\\\12 \\\\\\end{bmatrix}\\end{Bmatrix} $$"
   ]
  },
  {
   "cell_type": "markdown",
   "metadata": {},
   "source": [
    "$$ Equations $$\n",
    "$$ Rx = c1*vectX[0] + c2*vectY[0]    $$\n",
    "$$ Ry = c1*vectX[1] + c2*vectY[1]    $$\n"
   ]
  },
  {
   "cell_type": "code",
   "execution_count": 77,
   "metadata": {},
   "outputs": [
    {
     "data": {
      "image/png": "[encoded data removed]",
      "text/plain": [
       "<Figure size 432x288 with 1 Axes>"
      ]
     },
     "metadata": {
      "needs_background": "light"
     },
     "output_type": "display_data"
    }
   ],
   "source": [
    "\n",
    "vectX = np.array([11,5])\n",
    "vectY = np.array([2,12])\n",
    "\n",
    "#Can't put every value of c, arrange some numbers from given range\n",
    "R = np.arange(-20,20,0.5)\n",
    "#The #0.5 determines the step of produced numbers\n",
    "\n",
    "c1, c2 = np.meshgrid(R,R) #creates a range of 2D values of R and R\n",
    "\n",
    "#present the x and y axis as black\n",
    "plt.axhline(y=0, color='k')\n",
    "plt.axvline(x=0, color='k')\n",
    "\n",
    "#dot product between c1 and c2 with vectors\n",
    "spanRx = c1*vectX[0] + c2*vectY[0] #with first elements\n",
    "spanRy = c1*vectX[1] + c2*vectY[1] #with second elements\n",
    "\n",
    "\n",
    "plt.scatter(spanRx,spanRy, s=0.3, alpha=0.75,color='red')\n",
    "#s for size of dot, alpha for opacity\n",
    "\n",
    "\n",
    "\n",
    "#showing the plot\n",
    "#showting the grid\n",
    "plt.grid()\n",
    "plt.show()\n",
    "\n"
   ]
  },
  {
   "cell_type": "markdown",
   "metadata": {},
   "source": [
    "$$c_1X = c_14x + c_19y \\\\ c_2Y = c_27x + c_21y$$"
   ]
  },
  {
   "cell_type": "markdown",
   "metadata": {},
   "source": [
    "$$S = \\begin{Bmatrix} c_1 \\cdot\\begin{bmatrix} 4\\\\9 \\\\\\end{bmatrix}, c_2 \\cdot \\begin{bmatrix} 7\\\\1\\\\\\end{bmatrix}\\end{Bmatrix} $$"
   ]
  },
  {
   "cell_type": "markdown",
   "metadata": {},
   "source": [
    "$$ Equations $$\n",
    "$$ Rx = c1*vectX[0] + c2*vectY[0]    $$\n",
    "$$ Ry = c1*vectX[1] + c2*vectY[1]    $$\n"
   ]
  },
  {
   "cell_type": "code",
   "execution_count": 60,
   "metadata": {},
   "outputs": [
    {
     "data": {
      "image/png": "[encoded data removed]",
      "text/plain": [
       "<Figure size 432x288 with 1 Axes>"
      ]
     },
     "metadata": {
      "needs_background": "light"
     },
     "output_type": "display_data"
    }
   ],
   "source": [
    "\n",
    "vectX = np.array([4,9])\n",
    "vectY = np.array([7,1])\n",
    "\n",
    "#Can't put every value of c, arrange some numbers from given range\n",
    "R = np.arange(-10,10,0.5)\n",
    "#The #0.5 determines the step of produced numbers\n",
    "\n",
    "c1, c2 = np.meshgrid(R,R) #creates a range of 2D values of R and R\n",
    "\n",
    "#dot product between c1 and c2 with vectors\n",
    "spanRx = c1*vectX[0] + c2*vectY[0] #with first elements\n",
    "spanRy = c1*vectX[1] + c2*vectY[1] #with second elements\n",
    "\n",
    "plt.scatter(spanRx, spanRy, s=5, alpha=0.75, color='red')\n",
    "#s for size of dot, alpha for opacity\n",
    "\n",
    "\n",
    "#present the x and y axis as black\n",
    "plt.axhline(y=0, color='k')\n",
    "plt.axvline(x=0, color='k')\n",
    "#showing the plot\n",
    "#showting the grid\n",
    "plt.grid()\n",
    "plt.show()\n",
    "\n"
   ]
  },
  {
   "cell_type": "markdown",
   "metadata": {},
   "source": [
    "$$c_1X = c_18x + c_18y \\\\ c_2Y = c_22x + c_22y$$"
   ]
  },
  {
   "cell_type": "markdown",
   "metadata": {},
   "source": [
    "$$S = \\begin{Bmatrix} c_1 \\cdot\\begin{bmatrix} 8\\\\8 \\\\\\end{bmatrix}, c_2 \\cdot \\begin{bmatrix} 2\\\\2\\\\\\end{bmatrix}\\end{Bmatrix} $$"
   ]
  },
  {
   "cell_type": "markdown",
   "metadata": {},
   "source": [
    "$$ Equations $$\n",
    "$$ Rx = c1*vectX[0] + c2*vectY[0]    $$\n",
    "$$ Ry = c1*vectX[1] + c2*vectY[1]    $$"
   ]
  },
  {
   "cell_type": "code",
   "execution_count": 69,
   "metadata": {},
   "outputs": [
    {
     "data": {
      "image/png": "[encoded data removed]",
      "text/plain": [
       "<Figure size 432x288 with 1 Axes>"
      ]
     },
     "metadata": {
      "needs_background": "light"
     },
     "output_type": "display_data"
    }
   ],
   "source": [
    "\n",
    "vectX = np.array([8,8])\n",
    "vectY = np.array([2,2])\n",
    "\n",
    "#Can't put every value of c, arrange some numbers from given range\n",
    "R = np.arange(-10,10,0.5)\n",
    "#The #0.5 determines the step of produced numbers\n",
    "\n",
    "\n",
    "c1, c2 = np.meshgrid(R,R) #creates a range of 2D values of R and R\n",
    "\n",
    "\n",
    "#dot product between c1 and c2 with vectors\n",
    "spanRx = c1*vectX[0] + c2*vectY[0] #with first elements\n",
    "spanRy = c1*vectX[1] + c2*vectY[1] #with second elements\n",
    "\n",
    "#plt.scatter(spanRx,spanRy, s=5, alpha=0.75, color='red')\n",
    "plt.scatter(spanRx, spanRy, s=5, alpha=0.75, color='red')\n",
    "\n",
    "#s for size of dot, alpha for opacity\n",
    "\n",
    "\n",
    "\n",
    "#present the x and y axis as black\n",
    "plt.axhline(y=0, color='k')\n",
    "plt.axvline(x=0, color='k')\n",
    "#showing the plot\n",
    "#showting the grid\n",
    "plt.grid()"
   ]
  },
  {
   "cell_type": "markdown",
   "metadata": {},
   "source": [
    "## Discussion Questions"
   ]
  },
  {
   "cell_type": "markdown",
   "metadata": {},
   "source": [
    "Append your discussion at the end of the results section of your report just before your conclusion. Try to answer the following questions. Do not forget to cite your sources."
   ]
  },
  {
   "cell_type": "markdown",
   "metadata": {},
   "source": [
    "1. You might have notices that the dimensions plot of linear combinations change according to its rank. If a vector is $\\mathbb{R}=1$ the plot of its linear combination is one-dimensional or a line, and if $\\mathbb{R}=2$ the plot is a plane. What will be the shape of the vector visualization if $\\mathbb{R} = 3$ and if $\\mathbb{R} = 4$?\n",
    "\n",
    "   The shape of the vector visualization if $\\mathbb{R} = 3$ and if$\\mathbb{R} = 4$ would be (3,3) and (4,4) because it will become three-dimensional and four-dimensional vectors. The number of dimensions can be extended into an arbitrary number [6].\n",
    "\n",
    "2. Kindly discuss the role of unit vectors in relation to liner combinations.\n",
    "    \n",
    "    The unit vectors role is to have a graphical representation of the given set of scalar values or the arbitrary constant. The scalar value is multiplied to the unit vector and the result of this will be the graphical representation of the scalar value when it will plot in the cartesian plane.\n"
   ]
  },
  {
   "cell_type": "markdown",
   "metadata": {},
   "source": [
    "## Conclusion guide"
   ]
  },
  {
   "cell_type": "markdown",
   "metadata": {},
   "source": [
    "For your conclusion synthesize the concept and application of the laboratory. Briefly discuss what you have learn and achieved in this activity. At the end of your conclusion try to answer the question : \"How can you apply the concept of linear combination in engineeing or real-life situations?\"."
   ]
  }
 ],
 "metadata": {
  "kernelspec": {
   "display_name": "Python 3",
   "language": "python",
   "name": "python3"
  },
  "language_info": {
   "codemirror_mode": {
    "name": "ipython",
    "version": 3
   },
   "file_extension": ".py",
   "mimetype": "text/x-python",
   "name": "python",
   "nbconvert_exporter": "python",
   "pygments_lexer": "ipython3",
   "version": "3.8.3"
  }
 },
 "nbformat": 4,
 "nbformat_minor": 4
}
