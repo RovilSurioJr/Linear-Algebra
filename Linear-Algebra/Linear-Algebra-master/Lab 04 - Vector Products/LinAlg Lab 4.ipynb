{
 "cells": [
  {
   "cell_type": "markdown",
   "metadata": {},
   "source": [
    "# Linear Algebra for CpE\n",
    "## Laboratory 4 : Vector Operations"
   ]
  },
  {
   "cell_type": "markdown",
   "metadata": {},
   "source": [
    "Now that you have a fundamental knowledge about linear combination, we'll try to apply the fundamental operations"
   ]
  },
  {
   "cell_type": "markdown",
   "metadata": {},
   "source": [
    "### Objectives\n",
    "At the end of this activity you will be able to:\n",
    "1. Referesh knowledge on vector operations while being familiar with new operations such as products.\n",
    "2. Visualize vector operations.\n",
    "3. Perform vector operations using Python."
   ]
  },
  {
   "cell_type": "markdown",
   "metadata": {},
   "source": [
    "## Discussion"
   ]
  },
  {
   "cell_type": "code",
   "execution_count": 2,
   "metadata": {},
   "outputs": [],
   "source": [
    "import numpy as np\n",
    "import matplotlib.pyplot as plt\n",
    "%matplotlib inline\n",
    "import math"
   ]
  },
  {
   "cell_type": "markdown",
   "metadata": {},
   "source": [
    "We have dealt with some of the vector operations in the last module, now we will dwell into more operations. In this laboratory, we will tackle addition,multiplication,division and the inner product of a vector."
   ]
  },
  {
   "cell_type": "markdown",
   "metadata": {},
   "source": [
    "## Vector Addition"
   ]
  },
  {
   "cell_type": "markdown",
   "metadata": {},
   "source": [
    "We have encountered vector before especially with your last activity. Vector addition is simply the element-wise addition of the scalar values of the vectors. Let's take the following vectors as a sample:\n",
    "\n",
    "$$A = \\begin{bmatrix}1\\\\2\\\\0\\end{bmatrix}, B= \\begin{bmatrix}3\\\\1\\\\-2 \\end{bmatrix}$$\n",
    "\n",
    "So if do a vector addition of these two vectors we'll get:\n",
    "\n",
    "$$A + B = \\begin{bmatrix}4\\\\3\\\\-2\\end{bmatrix}$$\n",
    "\n",
    "We can progammatically solve this using `np.add()` or simply using `+`."
   ]
  },
  {
   "cell_type": "code",
   "execution_count": 34,
   "metadata": {},
   "outputs": [],
   "source": [
    "A = np.array([1,2,0])\n",
    "B = np.array([3,1,-2])"
   ]
  },
  {
   "cell_type": "code",
   "execution_count": 35,
   "metadata": {},
   "outputs": [
    {
     "data": {
      "text/plain": [
       "array([ 4,  3, -2])"
      ]
     },
     "execution_count": 35,
     "metadata": {},
     "output_type": "execute_result"
    }
   ],
   "source": [
    "A+B"
   ]
  },
  {
   "cell_type": "code",
   "execution_count": 36,
   "metadata": {},
   "outputs": [
    {
     "data": {
      "text/plain": [
       "array([ 4,  3, -2])"
      ]
     },
     "execution_count": 36,
     "metadata": {},
     "output_type": "execute_result"
    }
   ],
   "source": [
    "np.add(A,B)"
   ]
  },
  {
   "cell_type": "markdown",
   "metadata": {},
   "source": [
    "## Vector Subtraction"
   ]
  },
  {
   "cell_type": "markdown",
   "metadata": {},
   "source": [
    "Vector subtraction is similar to your vector addition but you would need to scale the second vector using a negative scalar that is usuall $-1$. So if we subtract vector $B$ from vector $A$ we get:\n",
    "\n",
    "$$A-B = \\begin{bmatrix}-2\\\\1\\\\2\\end{bmatrix}$$\n",
    "\n",
    "In Python, this can be achieved by using `np.subtract()` or `-`"
   ]
  },
  {
   "cell_type": "code",
   "execution_count": 37,
   "metadata": {},
   "outputs": [
    {
     "data": {
      "text/plain": [
       "array([-2,  1,  2])"
      ]
     },
     "execution_count": 37,
     "metadata": {},
     "output_type": "execute_result"
    }
   ],
   "source": [
    "np.subtract(A,B)"
   ]
  },
  {
   "cell_type": "code",
   "execution_count": 38,
   "metadata": {},
   "outputs": [
    {
     "data": {
      "text/plain": [
       "array([-2,  1,  2])"
      ]
     },
     "execution_count": 38,
     "metadata": {},
     "output_type": "execute_result"
    }
   ],
   "source": [
    "A-B"
   ]
  },
  {
   "cell_type": "markdown",
   "metadata": {},
   "source": [
    "## Vector Multiplication"
   ]
  },
  {
   "cell_type": "markdown",
   "metadata": {},
   "source": [
    "Vector multiplication, like addition does its operations element-wise. So basic vector multiplication can be achieved by multiplying the elements or the scalars of the vectors individually. So:\n",
    "$$A * B = \\begin{bmatrix}3\\\\2\\\\0\\end{bmatrix}$$\n",
    "We can implement this in code by using `np.multiply()` or simply operating with `*`."
   ]
  },
  {
   "cell_type": "code",
   "execution_count": 39,
   "metadata": {},
   "outputs": [
    {
     "data": {
      "text/plain": [
       "array([3, 2, 0])"
      ]
     },
     "execution_count": 39,
     "metadata": {},
     "output_type": "execute_result"
    }
   ],
   "source": [
    "np.multiply(A,B)"
   ]
  },
  {
   "cell_type": "code",
   "execution_count": 40,
   "metadata": {},
   "outputs": [
    {
     "data": {
      "text/plain": [
       "array([3, 2, 0])"
      ]
     },
     "execution_count": 40,
     "metadata": {},
     "output_type": "execute_result"
    }
   ],
   "source": [
    "A*B"
   ]
  },
  {
   "cell_type": "markdown",
   "metadata": {},
   "source": [
    "## Vector Division"
   ]
  },
  {
   "cell_type": "markdown",
   "metadata": {},
   "source": [
    "Dividing a vector by another is uncommon, but if the situation specifies that each elements or scalars of the vector would be divided individually we can perform this by:\n",
    "$$A./B = \\begin{bmatrix}\\frac{1}{3}\\\\2\\\\0\\end{bmatrix}$$\n",
    "Take note that the notation we used here is $./$ for element-wise division, this notation is based in a MATLab notation for element-wise division. This can be achieved in Python using `np.divide()` or `/`."
   ]
  },
  {
   "cell_type": "code",
   "execution_count": 41,
   "metadata": {},
   "outputs": [
    {
     "data": {
      "text/plain": [
       "array([ 0.33333333,  2.        , -0.        ])"
      ]
     },
     "execution_count": 41,
     "metadata": {},
     "output_type": "execute_result"
    }
   ],
   "source": [
    "np.divide(A,B)"
   ]
  },
  {
   "cell_type": "code",
   "execution_count": 42,
   "metadata": {},
   "outputs": [
    {
     "data": {
      "text/plain": [
       "array([ 0.33333333,  2.        , -0.        ])"
      ]
     },
     "execution_count": 42,
     "metadata": {},
     "output_type": "execute_result"
    }
   ],
   "source": [
    "A/B"
   ]
  },
  {
   "cell_type": "markdown",
   "metadata": {},
   "source": [
    "## Modulus of a Vector"
   ]
  },
  {
   "cell_type": "markdown",
   "metadata": {},
   "source": [
    "The modulus of a vector or the magnitude of a vector can be determined using the Pythagorean theorem. Given the vector $A$ and its scalars denoted as $a_n$ where $n$ is the index of the scalar. So if we have:\n",
    "$$A = \\begin{bmatrix}1\\\\2\\end{bmatrix}$$\n",
    "We can compute the magnitude as:\n",
    "$$||A|| = \\sqrt{a_1^2 + a_2^2} = \\sqrt{1^2 + 2^2} = \\sqrt{5}$$\n",
    "So if we have a matrix with more parameters such as:\n",
    "$$B=\\begin{bmatrix}2\\\\5\\\\-1\\\\0\\end{bmatrix}$$\n",
    "We can generalize the Pythagorean theorem to compute for the magnitude as:\n",
    "$$||B|| = \\sqrt{b_1^2 + b_2^2 + b_3^2 + ... +b_n^2} = \\sqrt{\\sum_{n=1}^{N}b_n^2}$$\n",
    "And this equation is now called a Euclidian distance or the Euclidean Norm. We can implement this explicitly by for loops or using `np.linalg.norm()` to get the Euclidian Norm."
   ]
  },
  {
   "cell_type": "code",
   "execution_count": 44,
   "metadata": {},
   "outputs": [],
   "source": [
    "A = np.array([1,2])\n",
    "B = np.array([2,5,-1,0])"
   ]
  },
  {
   "cell_type": "code",
   "execution_count": 46,
   "metadata": {},
   "outputs": [
    {
     "data": {
      "text/plain": [
       "2.23606797749979"
      ]
     },
     "execution_count": 46,
     "metadata": {},
     "output_type": "execute_result"
    }
   ],
   "source": [
    "np.linalg.norm(A)"
   ]
  },
  {
   "cell_type": "code",
   "execution_count": 48,
   "metadata": {},
   "outputs": [
    {
     "data": {
      "text/plain": [
       "5.477225575051661"
      ]
     },
     "execution_count": 48,
     "metadata": {},
     "output_type": "execute_result"
    }
   ],
   "source": [
    "np.linalg.norm(B)"
   ]
  },
  {
   "cell_type": "markdown",
   "metadata": {},
   "source": [
    "## Vector Dot Product / Inner Product"
   ]
  },
  {
   "cell_type": "markdown",
   "metadata": {},
   "source": [
    "The inner product of a vector is the sum of the products of each elements of the vectors. So given vectors $H$ and $G$ below:\n",
    "$$H=\\begin{bmatrix}1\\\\3\\\\6\\end{bmatrix}, G = \\begin{bmatrix}5\\\\2\\\\1\\end{bmatrix}$$\n",
    "We first take the element-wise product of the vectors:\n",
    "$$H*G = \\begin{bmatrix}5\\\\6\\\\6\\end{bmatrix}$$\n",
    "Then we take the sum of the products, making it the inner product of a vector:\n",
    "$$H\\cdot G = 17$$\n",
    "You can solve for the inner product using an explicit function, `np.inner()` or the `@` operator."
   ]
  },
  {
   "cell_type": "code",
   "execution_count": 49,
   "metadata": {},
   "outputs": [],
   "source": [
    "H = np.array([1,3,6])\n",
    "G = np.array([5,2,1])"
   ]
  },
  {
   "cell_type": "code",
   "execution_count": 50,
   "metadata": {},
   "outputs": [
    {
     "data": {
      "text/plain": [
       "17"
      ]
     },
     "execution_count": 50,
     "metadata": {},
     "output_type": "execute_result"
    }
   ],
   "source": [
    "np.inner(H,G)"
   ]
  },
  {
   "cell_type": "code",
   "execution_count": 53,
   "metadata": {},
   "outputs": [
    {
     "data": {
      "text/plain": [
       "17"
      ]
     },
     "execution_count": 53,
     "metadata": {},
     "output_type": "execute_result"
    }
   ],
   "source": [
    "H @ G"
   ]
  },
  {
   "cell_type": "markdown",
   "metadata": {},
   "source": [
    "## Activity"
   ]
  },
  {
   "cell_type": "markdown",
   "metadata": {},
   "source": [
    "### Task 1"
   ]
  },
  {
   "cell_type": "markdown",
   "metadata": {},
   "source": [
    "Make an explicit function (not using any of NumPy's preset functions) solving the modulus of a vector using the Euclidian Norm formula: \n",
    "$$||X|| = \\sqrt{\\sum_{n=1}^{N}x_n^2}$$\n",
    "Create a program flowchart for your algorithm and explain it in your methodology. Create 6 different vectors which their element count should not be lower than 4 elements. Explain the results at the results discussion section while comparing them to the `np.linalg.norm()` function."
   ]
  },
  {
   "cell_type": "code",
   "execution_count": 35,
   "metadata": {},
   "outputs": [
    {
     "name": "stdout",
     "output_type": "stream",
     "text": [
      "--------------------------------------------------------\n",
      "Using the function created\n",
      "--------------------------------------------------------\n",
      "Vector's magnitude for vect1 =  15.937377450509228\n",
      "Vector's magnitude for vect2 =  14.45683229480096\n",
      "Vector's magnitude for vect3 =  15.0996688705415\n",
      "Vector's magnitude for vect4 =  51.56549233741495\n",
      "Vector's magnitude for vect5 =  64.02343321003646\n",
      "Vector's magnitude for vect6 =  44.170125650715555\n",
      "--------------------------------------------------------\n",
      "Using np.linalg.norm\n",
      "--------------------------------------------------------\n",
      "Vector's magnitude for vect1 =  15.937377450509228\n",
      "Vector's magnitude for vect2 =  14.45683229480096\n",
      "Vector's magnitude for vect3 =  15.0996688705415\n",
      "Vector's magnitude for vect4 =  51.56549233741495\n",
      "Vector's magnitude for vect5 =  64.02343321003646\n",
      "Vector's magnitude for vect6 =  44.170125650715555\n"
     ]
    }
   ],
   "source": [
    "def modulus(vec):\n",
    "    raisesum = 0\n",
    "    for element in range(len(vec)):\n",
    "       \n",
    "        raisesum = vec[element] **2 + raisesum\n",
    "        sqr = math.sqrt(raisesum)\n",
    "    return(sqr)    \n",
    "    \n",
    "\n",
    "vect1 = [2, 5, 2, 5, 14]\n",
    "vect2 = [5, 2, 4, 8, 10]\n",
    "vect3 = [9, 11, 3, 1, 4]\n",
    "vect4 = [7, 43, 22, 9, 14]\n",
    "vect5 = [6, 23, 53, 26, 7]\n",
    "vect6 = [1, 4, 6, 7, 43]\n",
    "\n",
    "print(\"--------------------------------------------------------\")\n",
    "print(\"Using the function created\")\n",
    "print(\"--------------------------------------------------------\")\n",
    "print(\"Vector's magnitude for vect1 = \", modulus(vect1))\n",
    "print(\"Vector's magnitude for vect2 = \", modulus(vect2))\n",
    "print(\"Vector's magnitude for vect3 = \", modulus(vect3))\n",
    "print(\"Vector's magnitude for vect4 = \", modulus(vect4))\n",
    "print(\"Vector's magnitude for vect5 = \", modulus(vect5))\n",
    "print(\"Vector's magnitude for vect6 = \", modulus(vect6))\n",
    "\n",
    "#for comparison to np.linalg.form()\n",
    "print(\"--------------------------------------------------------\")\n",
    "print(\"Using np.linalg.norm\")\n",
    "print(\"--------------------------------------------------------\")\n",
    "print(\"Vector's magnitude for vect1 = \", np.linalg.norm(vect1))\n",
    "print(\"Vector's magnitude for vect2 = \", np.linalg.norm(vect2))\n",
    "print(\"Vector's magnitude for vect3 = \", np.linalg.norm(vect3))\n",
    "print(\"Vector's magnitude for vect4 = \", np.linalg.norm(vect4))\n",
    "print(\"Vector's magnitude for vect5 = \", np.linalg.norm(vect5))\n",
    "print(\"Vector's magnitude for vect6 = \", np.linalg.norm(vect6))\n",
    "\n"
   ]
  },
  {
   "cell_type": "markdown",
   "metadata": {},
   "source": [
    "### Task 2"
   ]
  },
  {
   "cell_type": "markdown",
   "metadata": {},
   "source": [
    "Make an explicit function (not using any of NumPy's preset functions nor the `@` operator) solving the inner product of two vectors using the inner product formula: \n",
    "$$A\\cdot B = \\sum_{n=1}^{N} a_n \\times b_n $$\n",
    "$$whereas: N = len(A) = len(B)$$\n",
    "Create a program flowchart for your algorithm and explain it in your methodology. Create 5 distinct pairs vectors which their element count should not be lower than 5 elements. Explain the results at the results discussion section while comparing them to the `np.inner()` function."
   ]
  },
  {
   "cell_type": "code",
   "execution_count": 97,
   "metadata": {},
   "outputs": [
    {
     "name": "stdout",
     "output_type": "stream",
     "text": [
      "--------------------------------------------------------\n",
      "Using the function created\n",
      "--------------------------------------------------------\n",
      "The inner product of first pair is :  208\n",
      "The inner product of second pair is :  1752\n",
      "The inner product of third pair is :  4151\n",
      "The inner product of fourth pair is :  4951\n",
      "The inner product of fifth pair is :  6391\n",
      "--------------------------------------------------------\n",
      "For comparison with np.inner()\n",
      "--------------------------------------------------------\n",
      "The inner product of first pair is :  208\n",
      "The inner product of second pair is :  1752\n",
      "The inner product of third pair is :  4151\n",
      "The inner product of fourth pair is :  4951\n",
      "The inner product of fifth pair is :  6391\n"
     ]
    }
   ],
   "source": [
    "def inner (vec,vec2):\n",
    "    dot = 0\n",
    "    for element in range(len(vec)): \n",
    "        dot = vec[element]*vec2[element] + dot\n",
    "    return (dot)\n",
    "            \n",
    "            \n",
    "vect_1 = [2, 5, 2, 5, 14]\n",
    "vect_2 = [5, 2, 4, 8, 10]\n",
    "\n",
    "vect_3 = [44, 11, 4, 1, 16]\n",
    "vect_4 = [25, 21, 64, 21, 9]\n",
    "\n",
    "vect_5 = [22, 21, 42, 5, 2]\n",
    "vect_6 = [43, 21, 63, 22, 4]\n",
    "\n",
    "vect_7 = [74, 37, 62, 46, 22]\n",
    "vect_8 = [21, 11, 34, 12, 15]\n",
    "\n",
    "vect_9 = [32, 46, 22, 52, 11]\n",
    "vect_10 = [35, 12, 43, 66, 31]\n",
    "\n",
    "print(\"--------------------------------------------------------\")\n",
    "print(\"Using the function created\")\n",
    "print(\"--------------------------------------------------------\")\n",
    "print(\"The inner product of first pair is : \", inner(vect_1,vect_2))\n",
    "print(\"The inner product of second pair is : \", inner(vect_3,vect_4))\n",
    "print(\"The inner product of third pair is : \", inner(vect_5,vect_6))\n",
    "print(\"The inner product of fourth pair is : \", inner(vect_7,vect_8))\n",
    "print(\"The inner product of fifth pair is : \", inner(vect_9,vect_10))\n",
    "\n",
    "print(\"--------------------------------------------------------\")\n",
    "print(\"For comparison with np.inner()\")\n",
    "print(\"--------------------------------------------------------\")\n",
    "\n",
    "vect_1 = np.array([2, 5, 2, 5, 14])\n",
    "vect_2 = np.array([5, 2, 4, 8, 10])\n",
    "\n",
    "vect_3 = np.array([44, 11, 4, 1, 16])\n",
    "vect_4 = np.array([25, 21, 64, 21, 9])\n",
    "\n",
    "vect_5 = np.array([22, 21, 42, 5, 2])\n",
    "vect_6 = np.array([43, 21, 63, 22, 4])\n",
    "\n",
    "vect_7 = np.array([74, 37, 62, 46, 22])\n",
    "vect_8 = np.array([21, 11, 34, 12, 15])\n",
    "\n",
    "vect_9 = np.array([32, 46, 22, 52, 11])\n",
    "vect_10 = np.array([35, 12, 43, 66, 31])\n",
    "\n",
    "print(\"The inner product of first pair is : \", np.inner(vect_1,vect_2))\n",
    "print(\"The inner product of second pair is : \", np.inner(vect_3,vect_4))\n",
    "print(\"The inner product of third pair is : \", np.inner(vect_5,vect_6))\n",
    "print(\"The inner product of fourth pair is : \", np.inner(vect_7,vect_8))\n",
    "print(\"The inner product of fifth pair is : \", np.inner(vect_9,vect_10))\n"
   ]
  },
  {
   "cell_type": "markdown",
   "metadata": {},
   "source": [
    "### Task 3"
   ]
  },
  {
   "cell_type": "markdown",
   "metadata": {},
   "source": [
    "Code the following vector operation and solve them using the given vector values"
   ]
  },
  {
   "cell_type": "markdown",
   "metadata": {},
   "source": [
    "$$ ((A^2 + B^2) * (A * (B + A*B)./C))*||A + B||$$\n",
    "$$A = \\begin{bmatrix}-0.4\\\\0.2\\\\-0.6\\end{bmatrix}, B = \\begin{bmatrix}-0.2\\\\0.2\\\\1\\end{bmatrix}, C = \\begin{bmatrix}0.2\\\\-0.1\\\\-0.5\\end{bmatrix}$$"
   ]
  },
  {
   "cell_type": "markdown",
   "metadata": {},
   "source": [
    "Create a program flowchart for your algorithm and explain it in your methodology. In your results, compare your answer to the expected output, visualize, and explain the resulting vector using a 3D plot."
   ]
  },
  {
   "cell_type": "code",
   "execution_count": 98,
   "metadata": {},
   "outputs": [],
   "source": [
    "A = np.array([-0.4,0.2,-0.6])\n",
    "B = np.array([-0.2,0.2,1])\n",
    "C = np.array([0.2,-0.1,-0.5])\n",
    "\n",
    "first = A**2 + B\n",
    "\n",
    " \n",
    "\n",
    "   #* np.linalg.norm(A+B)"
   ]
  },
  {
   "cell_type": "markdown",
   "metadata": {},
   "source": [
    "Expected answer: <br>\n",
    "`array([ 0.35377473, -0.70754945,  0.70754945])`"
   ]
  },
  {
   "cell_type": "markdown",
   "metadata": {},
   "source": [
    "## Conclusion guide"
   ]
  },
  {
   "cell_type": "markdown",
   "metadata": {},
   "source": [
    "For your conclusion synthesize the concept and application of the laboratory. Briefly discuss what you have learn and achieved in this activity. "
   ]
  }
 ],
 "metadata": {
  "kernelspec": {
   "display_name": "Python 3",
   "language": "python",
   "name": "python3"
  },
  "language_info": {
   "codemirror_mode": {
    "name": "ipython",
    "version": 3
   },
   "file_extension": ".py",
   "mimetype": "text/x-python",
   "name": "python",
   "nbconvert_exporter": "python",
   "pygments_lexer": "ipython3",
   "version": "3.8.3"
  }
 },
 "nbformat": 4,
 "nbformat_minor": 4
}
