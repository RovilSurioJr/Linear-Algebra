{
 "cells": [
  {
   "cell_type": "markdown",
   "metadata": {},
   "source": [
    "## <b>Linear Algebra (CpE210A)</b> "
   ]
  },
  {
   "cell_type": "markdown",
   "metadata": {},
   "source": [
    "\n",
    "\n",
    "\n",
    "#### <b>Laboratory 1: Getting acquainted with Python<b/>"
   ]
  },
  {
   "cell_type": "markdown",
   "metadata": {},
   "source": [
    "\n",
    "Coded and submitted by: <br> *Surio,* *Rovil* *Jr.*, *M.* <br> *58010*"
   ]
  },
  {
   "cell_type": "markdown",
   "metadata": {},
   "source": [
    "#### <b> Lab Exercises: <b/>"
   ]
  },
  {
   "cell_type": "code",
   "execution_count": 1,
   "metadata": {},
   "outputs": [
    {
     "name": "stdout",
     "output_type": "stream",
     "text": [
      "Charmander at level 15\n",
      "Pidgey at level 11\n",
      "Sandshrew at level 18\n",
      "Rattata at level 5\n",
      "Abra at level 14\n"
     ]
    }
   ],
   "source": [
    "party = ['Charmander', 'Pidgey', 'Sandshrew', 'Rattata', 'Abra']\n",
    "levels = [15, 11, 18, 5, 14]\n",
    "\n",
    "pokemons = \"\\n\".join(\"{} {} {}\".format(party, 'at level', levels) for party, levels in zip (party, levels)); print(pokemons)"
   ]
  },
  {
   "cell_type": "markdown",
   "metadata": {},
   "source": [
    "OBSERVATION: By using the function zip(), the two lists was put together and convert them together into the string by using the join string method. The word 'at level' was added in-between of the pokemon names and level in the positional argument from the format string method so that when it prints, it will follow the format assigned which is the (\"{} {} {}\".format(party, 'at level', levels). So, the first index from the 'party', will go to the first {} to be followed by the word \"at level\" into the second {} then lastly the first index from the 'levels' list into last {}. Then it will loop again proceeding to the second indexes until it reached the last one on the lists of party and levels"
   ]
  },
  {
   "cell_type": "code",
   "execution_count": 33,
   "metadata": {},
   "outputs": [
    {
     "name": "stdout",
     "output_type": "stream",
     "text": [
      "['Unown', 'Magikarp', 'Feebas']\n"
     ]
    }
   ],
   "source": [
    "pick = []\n",
    "reserves = [\n",
    "    ('Onix',10),\n",
    "    ('Slowpoke',18),\n",
    "    ('Dialga', 2),\n",
    "    ('Magikarp', 32),\n",
    "    ('Feebas', 22),\n",
    "    ('Swablu', 19),\n",
    "    ('Regigigas', 3),\n",
    "    ('Unown', 50)\n",
    "]\n",
    "reserves.sort(reverse=True,key=lambda x: x[1]);pick.append(reserves[0][0]),pick.append(reserves[1][0]),pick.append(reserves[2][0]);print(pick) "
   ]
  },
  {
   "cell_type": "markdown",
   "metadata": {},
   "source": [
    "OBSERVATION: A 'pick' variable was firstly defined as a list. After that, the reserves list was sorted out into descending order by using the reverse keyword as one of a parameter of the sort method. It was set to True because the default value of reverse is False. Also, a lambda expression or anonymous function was used as the second parameter of the sort method to set the location of the index that will be accessed from the list of tuple/pokemon with levels that contain 0 and 1 index. Also, the sorting of tuples/pokemon with levels by their 2nd index was achieved because of indication with the lambda expression to access the second index which is in code is \"key=lambda x: x[1]\". Therefore, If the lambda expression was not used, the sort method will sort the list alphabetically based on the 0 index which is the names of pokemon. Lastly, after sorting it, the first 3 elements were added to pick the empty list created and print the pick list to show the three Pokémons."
   ]
  },
  {
   "cell_type": "code",
   "execution_count": 34,
   "metadata": {},
   "outputs": [
    {
     "name": "stdout",
     "output_type": "stream",
     "text": [
      "['Charmander', 'Pidgey', 'Sandshrew', 'Rattata', 'Abra', 'Unown']\n",
      "['Charmander', 'Pidgey', 'Sandshrew', 'Rattata', 'Abra', 'Magikarp']\n",
      "['Charmander', 'Pidgey', 'Sandshrew', 'Rattata', 'Abra', 'Feebas']\n"
     ]
    }
   ],
   "source": [
    "def create_party(party,candidates):\n",
    "    suggested_parties = None \n",
    "    party.append(pick[0])\n",
    "    print(party) ; party.remove(\"Unown\")\n",
    "    party.append(pick[1])\n",
    "    print(party) ; party.remove(\"Magikarp\")\n",
    "    party.append(pick[2])\n",
    "    print(party)\n",
    "            \n",
    "    return suggested_parties\n",
    "    \n",
    "create_party(party,pick)"
   ]
  },
  {
   "cell_type": "markdown",
   "metadata": {},
   "source": [
    "OBSERVATION: Having an identical output to what has been presented in the problem was achieved by appending one by one of the selected pokemon from the 'pick' variable from cell 2. The process was appending the first pokemon from the 'pick' list which is the 'Unown' to the 'party' list and printing the current elements of the 'party' list. Next is removing 'Unown' and replace it with 'Magikarp' and print again the current elements of the 'party' list. Lastly, replacing 'Magikarp' by 'Feebas' to complete the 3 possible parties and calling the function to execute the block code and show the parties\n"
   ]
  }
 ],
 "metadata": {
  "kernelspec": {
   "display_name": "Python 3",
   "language": "python",
   "name": "python3"
  },
  "language_info": {
   "codemirror_mode": {
    "name": "ipython",
    "version": 3
   },
   "file_extension": ".py",
   "mimetype": "text/x-python",
   "name": "python",
   "nbconvert_exporter": "python",
   "pygments_lexer": "ipython3",
   "version": "3.8.3"
  }
 },
 "nbformat": 4,
 "nbformat_minor": 4
}
