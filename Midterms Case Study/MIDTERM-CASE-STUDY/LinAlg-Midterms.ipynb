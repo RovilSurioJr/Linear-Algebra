{
 "cells": [
  {
   "cell_type": "markdown",
   "metadata": {},
   "source": [
    "<h1>Linear Algebra (CpE210A)"
   ]
  },
  {
   "cell_type": "markdown",
   "metadata": {},
   "source": [
    "<h3>Midterms Project"
   ]
  },
  {
   "cell_type": "markdown",
   "metadata": {},
   "source": [
    "Coded and submitted by:<br>\n",
    "<i>Surio, Rovil Jr M.<br>\n",
    "    201911300 <br>\n",
    "   58010 </i>"
   ]
  },
  {
   "cell_type": "markdown",
   "metadata": {},
   "source": [
    "Directions\n",
    "This Jupyter Notebook will serve as your base code for your Midterm Project. You must further format and provide complete discussion on the given topic. \n",
    "- Provide all necessary explanations for specific code blocks. \n",
    "- Provide illustrations for key results.\n",
    "- Observe clean code (intuitive variable names, proper commenting, proper code spacing)\n",
    "- Provide a summary discussion at the end\n",
    "\n",
    "Failure to use this format or failure to update the document will be given a deduction equivalent to 50% of the original score. "
   ]
  },
  {
   "cell_type": "markdown",
   "metadata": {},
   "source": [
    "### Case"
   ]
  },
  {
   "cell_type": "markdown",
   "metadata": {},
   "source": [
    "Bebang is back to consult you about her business. Furthering her data analytics initiative she asks you for help to compute some relevant data. Now she is asking you to compute and visualize her sales and costs for the past year. She has given you the datasets attached to her request."
   ]
  },
  {
   "cell_type": "markdown",
   "metadata": {},
   "source": [
    "### Problem"
   ]
  },
  {
   "cell_type": "markdown",
   "metadata": {},
   "source": [
    "Bebang asked for help in knowing the monthly revenues, costs, and profits from the sale data last year provided. A CSV with prices per donut flavor and their costs was also provided by Bebang to also know the sales of each flavor for a whole year. Moreover, the deliverables of the activity are to provide a code for computing the values needed such as the monthly cost, monthly revenues, and monthly profit. Upon getting the values needed, getting the top 3 best and worst flavors can be done by sorting the data gathered. Lastly, a graph can also be provided to better visualize and analyze the data gathered to come up with an idea to improve the things that might help the business to grow more."
   ]
  },
  {
   "cell_type": "markdown",
   "metadata": {},
   "source": [
    "# Proof of Concept"
   ]
  },
  {
   "cell_type": "markdown",
   "metadata": {},
   "source": [
    "Now that you have a grasp on the requirements we need to start with making a program to prove that her problem is solvable. As a Linear Algebra student, we will be focusin on applying vector operations to meet her needs. First, we need to import her data. We will use the `pandas` library for this. For more information you can look into their documentation [here](https://pandas.pydata.org/)."
   ]
  },
  {
   "cell_type": "code",
   "execution_count": 2,
   "metadata": {},
   "outputs": [
    {
     "data": {
      "text/html": [
       "<div>\n",
       "<style scoped>\n",
       "    .dataframe tbody tr th:only-of-type {\n",
       "        vertical-align: middle;\n",
       "    }\n",
       "\n",
       "    .dataframe tbody tr th {\n",
       "        vertical-align: top;\n",
       "    }\n",
       "\n",
       "    .dataframe thead th {\n",
       "        text-align: right;\n",
       "    }\n",
       "</style>\n",
       "<table border=\"1\" class=\"dataframe\">\n",
       "  <thead>\n",
       "    <tr style=\"text-align: right;\">\n",
       "      <th></th>\n",
       "      <th>red velvet</th>\n",
       "      <th>oreo</th>\n",
       "      <th>sugar glazed</th>\n",
       "      <th>almond honey</th>\n",
       "      <th>matcha</th>\n",
       "      <th>strawberry cream</th>\n",
       "      <th>brown sugar boba</th>\n",
       "      <th>furits and nuts</th>\n",
       "      <th>dark chocolate</th>\n",
       "      <th>chocolate and orange</th>\n",
       "      <th>choco mint</th>\n",
       "      <th>choco butter naught</th>\n",
       "    </tr>\n",
       "  </thead>\n",
       "  <tbody>\n",
       "    <tr>\n",
       "      <th>price per piece</th>\n",
       "      <td>35</td>\n",
       "      <td>25</td>\n",
       "      <td>20</td>\n",
       "      <td>35</td>\n",
       "      <td>50</td>\n",
       "      <td>40</td>\n",
       "      <td>40</td>\n",
       "      <td>45</td>\n",
       "      <td>30</td>\n",
       "      <td>40</td>\n",
       "      <td>45</td>\n",
       "      <td>45</td>\n",
       "    </tr>\n",
       "    <tr>\n",
       "      <th>cost per piece</th>\n",
       "      <td>25</td>\n",
       "      <td>15</td>\n",
       "      <td>10</td>\n",
       "      <td>20</td>\n",
       "      <td>35</td>\n",
       "      <td>31</td>\n",
       "      <td>30</td>\n",
       "      <td>25</td>\n",
       "      <td>15</td>\n",
       "      <td>25</td>\n",
       "      <td>32</td>\n",
       "      <td>31</td>\n",
       "    </tr>\n",
       "  </tbody>\n",
       "</table>\n",
       "</div>"
      ],
      "text/plain": [
       "                 red velvet  oreo  sugar glazed  almond honey  matcha  \\\n",
       "price per piece          35    25            20            35      50   \n",
       "cost per piece           25    15            10            20      35   \n",
       "\n",
       "                 strawberry cream  brown sugar boba  furits and nuts  \\\n",
       "price per piece                40                40               45   \n",
       "cost per piece                 31                30               25   \n",
       "\n",
       "                 dark chocolate  chocolate and orange  choco mint  \\\n",
       "price per piece              30                    40          45   \n",
       "cost per piece               15                    25          32   \n",
       "\n",
       "                 choco butter naught  \n",
       "price per piece                   45  \n",
       "cost per piece                    31  "
      ]
     },
     "execution_count": 2,
     "metadata": {},
     "output_type": "execute_result"
    }
   ],
   "source": [
    "import pandas as pd\n",
    "\n",
    "file_prices = \"bebang prices.csv\"\n",
    "file_sales = \"bebang sales.csv\"\n",
    "\n",
    "df_prices = pd.read_csv(file_prices, index_col=0)\n",
    "df_sales = pd.read_csv(file_sales)\n",
    "\n",
    "\n",
    "## Let's check what's in df_prices\n",
    "df_prices"
   ]
  },
  {
   "cell_type": "code",
   "execution_count": 3,
   "metadata": {},
   "outputs": [
    {
     "data": {
      "text/html": [
       "<div>\n",
       "<style scoped>\n",
       "    .dataframe tbody tr th:only-of-type {\n",
       "        vertical-align: middle;\n",
       "    }\n",
       "\n",
       "    .dataframe tbody tr th {\n",
       "        vertical-align: top;\n",
       "    }\n",
       "\n",
       "    .dataframe thead th {\n",
       "        text-align: right;\n",
       "    }\n",
       "</style>\n",
       "<table border=\"1\" class=\"dataframe\">\n",
       "  <thead>\n",
       "    <tr style=\"text-align: right;\">\n",
       "      <th></th>\n",
       "      <th>flavor</th>\n",
       "      <th>january</th>\n",
       "      <th>february</th>\n",
       "      <th>march</th>\n",
       "      <th>april</th>\n",
       "      <th>may</th>\n",
       "      <th>june</th>\n",
       "      <th>july</th>\n",
       "      <th>august</th>\n",
       "      <th>september</th>\n",
       "      <th>october</th>\n",
       "      <th>november</th>\n",
       "      <th>december</th>\n",
       "    </tr>\n",
       "  </thead>\n",
       "  <tbody>\n",
       "    <tr>\n",
       "      <th>0</th>\n",
       "      <td>red velvet</td>\n",
       "      <td>781</td>\n",
       "      <td>524</td>\n",
       "      <td>364</td>\n",
       "      <td>157</td>\n",
       "      <td>894</td>\n",
       "      <td>56</td>\n",
       "      <td>89</td>\n",
       "      <td>41</td>\n",
       "      <td>23</td>\n",
       "      <td>78</td>\n",
       "      <td>231</td>\n",
       "      <td>899</td>\n",
       "    </tr>\n",
       "    <tr>\n",
       "      <th>1</th>\n",
       "      <td>oreo</td>\n",
       "      <td>210</td>\n",
       "      <td>324</td>\n",
       "      <td>344</td>\n",
       "      <td>32</td>\n",
       "      <td>123</td>\n",
       "      <td>1</td>\n",
       "      <td>3</td>\n",
       "      <td>0</td>\n",
       "      <td>1</td>\n",
       "      <td>6</td>\n",
       "      <td>312</td>\n",
       "      <td>548</td>\n",
       "    </tr>\n",
       "    <tr>\n",
       "      <th>2</th>\n",
       "      <td>sugar glazed</td>\n",
       "      <td>599</td>\n",
       "      <td>674</td>\n",
       "      <td>854</td>\n",
       "      <td>14</td>\n",
       "      <td>467</td>\n",
       "      <td>78</td>\n",
       "      <td>36</td>\n",
       "      <td>48</td>\n",
       "      <td>75</td>\n",
       "      <td>98</td>\n",
       "      <td>781</td>\n",
       "      <td>1602</td>\n",
       "    </tr>\n",
       "    <tr>\n",
       "      <th>3</th>\n",
       "      <td>almond honey</td>\n",
       "      <td>124</td>\n",
       "      <td>112</td>\n",
       "      <td>114</td>\n",
       "      <td>23</td>\n",
       "      <td>198</td>\n",
       "      <td>12</td>\n",
       "      <td>32</td>\n",
       "      <td>41</td>\n",
       "      <td>23</td>\n",
       "      <td>36</td>\n",
       "      <td>300</td>\n",
       "      <td>566</td>\n",
       "    </tr>\n",
       "    <tr>\n",
       "      <th>4</th>\n",
       "      <td>matcha</td>\n",
       "      <td>645</td>\n",
       "      <td>498</td>\n",
       "      <td>885</td>\n",
       "      <td>98</td>\n",
       "      <td>177</td>\n",
       "      <td>98</td>\n",
       "      <td>43</td>\n",
       "      <td>96</td>\n",
       "      <td>26</td>\n",
       "      <td>71</td>\n",
       "      <td>549</td>\n",
       "      <td>897</td>\n",
       "    </tr>\n",
       "    <tr>\n",
       "      <th>5</th>\n",
       "      <td>strawberry cream</td>\n",
       "      <td>210</td>\n",
       "      <td>372</td>\n",
       "      <td>369</td>\n",
       "      <td>78</td>\n",
       "      <td>163</td>\n",
       "      <td>26</td>\n",
       "      <td>45</td>\n",
       "      <td>22</td>\n",
       "      <td>54</td>\n",
       "      <td>41</td>\n",
       "      <td>207</td>\n",
       "      <td>456</td>\n",
       "    </tr>\n",
       "    <tr>\n",
       "      <th>6</th>\n",
       "      <td>brown sugar boba</td>\n",
       "      <td>981</td>\n",
       "      <td>380</td>\n",
       "      <td>154</td>\n",
       "      <td>14</td>\n",
       "      <td>147</td>\n",
       "      <td>15</td>\n",
       "      <td>98</td>\n",
       "      <td>33</td>\n",
       "      <td>23</td>\n",
       "      <td>36</td>\n",
       "      <td>552</td>\n",
       "      <td>633</td>\n",
       "    </tr>\n",
       "    <tr>\n",
       "      <th>7</th>\n",
       "      <td>furits and nuts</td>\n",
       "      <td>478</td>\n",
       "      <td>462</td>\n",
       "      <td>354</td>\n",
       "      <td>49</td>\n",
       "      <td>89</td>\n",
       "      <td>0</td>\n",
       "      <td>1</td>\n",
       "      <td>0</td>\n",
       "      <td>1</td>\n",
       "      <td>8</td>\n",
       "      <td>335</td>\n",
       "      <td>214</td>\n",
       "    </tr>\n",
       "    <tr>\n",
       "      <th>8</th>\n",
       "      <td>dark chocolate</td>\n",
       "      <td>598</td>\n",
       "      <td>203</td>\n",
       "      <td>36</td>\n",
       "      <td>96</td>\n",
       "      <td>789</td>\n",
       "      <td>4</td>\n",
       "      <td>5</td>\n",
       "      <td>0</td>\n",
       "      <td>8</td>\n",
       "      <td>0</td>\n",
       "      <td>789</td>\n",
       "      <td>458</td>\n",
       "    </tr>\n",
       "    <tr>\n",
       "      <th>9</th>\n",
       "      <td>chocolate and orange</td>\n",
       "      <td>324</td>\n",
       "      <td>123</td>\n",
       "      <td>48</td>\n",
       "      <td>32</td>\n",
       "      <td>65</td>\n",
       "      <td>74</td>\n",
       "      <td>78</td>\n",
       "      <td>45</td>\n",
       "      <td>89</td>\n",
       "      <td>100</td>\n",
       "      <td>632</td>\n",
       "      <td>231</td>\n",
       "    </tr>\n",
       "    <tr>\n",
       "      <th>10</th>\n",
       "      <td>choco mint</td>\n",
       "      <td>458</td>\n",
       "      <td>412</td>\n",
       "      <td>78</td>\n",
       "      <td>78</td>\n",
       "      <td>78</td>\n",
       "      <td>7</td>\n",
       "      <td>3</td>\n",
       "      <td>8</td>\n",
       "      <td>2</td>\n",
       "      <td>1</td>\n",
       "      <td>323</td>\n",
       "      <td>564</td>\n",
       "    </tr>\n",
       "    <tr>\n",
       "      <th>11</th>\n",
       "      <td>choco butter naught</td>\n",
       "      <td>778</td>\n",
       "      <td>586</td>\n",
       "      <td>645</td>\n",
       "      <td>100</td>\n",
       "      <td>987</td>\n",
       "      <td>63</td>\n",
       "      <td>36</td>\n",
       "      <td>89</td>\n",
       "      <td>78</td>\n",
       "      <td>99</td>\n",
       "      <td>784</td>\n",
       "      <td>2310</td>\n",
       "    </tr>\n",
       "  </tbody>\n",
       "</table>\n",
       "</div>"
      ],
      "text/plain": [
       "                  flavor  january  february  march  april  may  june  july  \\\n",
       "0             red velvet      781       524    364    157  894    56    89   \n",
       "1                   oreo      210       324    344     32  123     1     3   \n",
       "2           sugar glazed      599       674    854     14  467    78    36   \n",
       "3           almond honey      124       112    114     23  198    12    32   \n",
       "4                 matcha      645       498    885     98  177    98    43   \n",
       "5       strawberry cream      210       372    369     78  163    26    45   \n",
       "6       brown sugar boba      981       380    154     14  147    15    98   \n",
       "7        furits and nuts      478       462    354     49   89     0     1   \n",
       "8         dark chocolate      598       203     36     96  789     4     5   \n",
       "9   chocolate and orange      324       123     48     32   65    74    78   \n",
       "10            choco mint      458       412     78     78   78     7     3   \n",
       "11   choco butter naught      778       586    645    100  987    63    36   \n",
       "\n",
       "    august  september  october  november  december  \n",
       "0       41         23       78       231       899  \n",
       "1        0          1        6       312       548  \n",
       "2       48         75       98       781      1602  \n",
       "3       41         23       36       300       566  \n",
       "4       96         26       71       549       897  \n",
       "5       22         54       41       207       456  \n",
       "6       33         23       36       552       633  \n",
       "7        0          1        8       335       214  \n",
       "8        0          8        0       789       458  \n",
       "9       45         89      100       632       231  \n",
       "10       8          2        1       323       564  \n",
       "11      89         78       99       784      2310  "
      ]
     },
     "execution_count": 3,
     "metadata": {},
     "output_type": "execute_result"
    }
   ],
   "source": [
    "## Let's check the sales dataframe\n",
    "df_sales"
   ]
  },
  {
   "cell_type": "markdown",
   "metadata": {},
   "source": [
    "## Part 1: Monthly Sales"
   ]
  },
  {
   "cell_type": "code",
   "execution_count": 4,
   "metadata": {},
   "outputs": [
    {
     "name": "stdout",
     "output_type": "stream",
     "text": [
      "(12, 12)\n",
      "(12, 1)\n",
      "(12, 1)\n"
     ]
    }
   ],
   "source": [
    "import numpy as np\n",
    "### Vectorizing the data\n",
    "\n",
    "sales_mat = np.array(df_sales.set_index('flavor'))\n",
    "prices_matt = np.array(df_prices)[0] ## reshape this vector to the appropriate size\n",
    "costs_matt = np.array(df_prices)[1] ## reshape this vector to the appropriate size\n",
    "\n",
    "\n",
    "## Do not alter these lines\n",
    "print(sales_mat.shape)\n",
    "\n",
    "##Reshaping the prices\n",
    "prices_mat = prices_matt.reshape((12,1))\n",
    "print(prices_mat.shape)\n",
    "\n",
    "\n",
    "##Reshaping the costs\n",
    "costs_mat = costs_matt.reshape((12,1))\n",
    "print(costs_mat.shape)\n",
    "\n",
    "# Expected Output\n",
    "# (12, 12)\n",
    "# (12, 1)\n",
    "# (12, 1)\n",
    "#print(sales_mat)\n",
    "#print(prices_mat)\n",
    "#print(costs_mat)\n",
    "\n"
   ]
  },
  {
   "cell_type": "markdown",
   "metadata": {},
   "source": [
    "#### Formulas"
   ]
  },
  {
   "cell_type": "markdown",
   "metadata": {},
   "source": [
    "Take note that the fomula for revenue is: <br>\n",
    "$revenue = sales * price $ <br>\n",
    "In this case, think that revenue, sales, and price are vectors instead of individual values <br>\n",
    "The formula of cost per item sold is: <br>\n",
    "$cost_{sold} = sales * cost$ <br>\n",
    "The formula for profit is: <br>\n",
    "$profit = revenue - cost_{sold}$ <br>\n",
    "Solving for the monthly profit will be the sum of all profits made on that month."
   ]
  },
  {
   "cell_type": "code",
   "execution_count": 5,
   "metadata": {},
   "outputs": [],
   "source": [
    "#Create a function that *returns* and prints the monthly sales and profit for each month \n",
    "def monthly_sales(price, cost, sales):\n",
    "    monthly_revenue = (np.multiply(sales,price))\n",
    "    monthly_costs = (np.multiply(sales,cost))\n",
    "    monthly_profits = monthly_revenue - monthly_costs\n",
    "    return monthly_revenue.flatten(), monthly_costs.flatten(), monthly_profits.flatten()\n",
    " #flatten() function is for returning a copy of the array collapsed into one dimension."
   ]
  },
  {
   "cell_type": "code",
   "execution_count": 6,
   "metadata": {},
   "outputs": [],
   "source": [
    "### Do not alter this cell\n",
    "month_rev, month_cost, month_profit = monthly_sales(prices_mat, costs_mat, sales_mat)\n",
    "### print the values"
   ]
  },
  {
   "cell_type": "code",
   "execution_count": 7,
   "metadata": {},
   "outputs": [
    {
     "name": "stdout",
     "output_type": "stream",
     "text": [
      "The monthly revenues are: \n",
      "\n",
      "The revenue for the month of January is:  236825\n",
      "The revenue for the month of February is:  175530\n",
      "The revenue for the month of March is:  159045\n",
      "The revenue for the month of April is:  30335\n",
      "The revenue for the month of May is:  150085\n",
      "The revenue for the month of June is:  16735\n",
      "The revenue for the month of July is:  17970\n",
      "The revenue for the month of August is:  16995\n",
      "The revenue for the month of September is:  14960\n",
      "The revenue for the month of October is:  21590\n",
      "The revenue for the month of November is:  213655\n",
      "The revenue for the month of December is:  347365\n",
      "\n",
      "The monthly costs are: \n",
      "\n",
      "The cost for the month of January is:  157454\n",
      "The cost for the month of February is:  116322\n",
      "The cost for the month of March is:  105195\n",
      "The cost for the month of April is:  20334\n",
      "The cost for the month of May is:  97261\n",
      "The cost for the month of June is:  11208\n",
      "The cost for the month of July is:  12372\n",
      "The cost for the month of August is:  11497\n",
      "The cost for the month of September is:  9926\n",
      "The cost for the month of October is:  14377\n",
      "The cost for the month of November is:  137107\n",
      "The cost for the month of December is:  230209\n",
      "\n",
      "The monthly profits are: \n",
      "\n",
      "The profit for the month of January is:  79371\n",
      "The profit for the month of February is:  59208\n",
      "The profit for the month of March is:  53850\n",
      "The profit for the month of April is:  10001\n",
      "The profit for the month of May is:  52824\n",
      "The profit for the month of June is:  5527\n",
      "The profit for the month of July is:  5598\n",
      "The profit for the month of August is:  5498\n",
      "The profit for the month of September is:  5034\n",
      "The profit for the month of October is:  7213\n",
      "The profit for the month of November is:  76548\n",
      "The profit for the month of December is:  117156\n"
     ]
    }
   ],
   "source": [
    "#print(\"The monthly revenue are: \\n\\n\", month_rev)\n",
    "#print(\" \\n The monthly cost per item sold are: \\n\\n\", month_cost)\n",
    "#print(\" \\n The monthly profit is: \\n\\n\",  month_profit)\n",
    "\n",
    "##Montly revenues\n",
    "## Computation for each by accessing each index with steps\n",
    "print(\"The monthly revenues are: \\n\")\n",
    "Janrev = np.sum(month_rev[0:144:12])\n",
    "print(\"The revenue for the month of January is: \", Janrev)\n",
    "\n",
    "Febrev = np.sum(month_rev[1:144:12])\n",
    "print(\"The revenue for the month of February is: \", Febrev)\n",
    "\n",
    "Marchrev = np.sum(month_rev[2:144:12])\n",
    "print(\"The revenue for the month of March is: \", Marchrev)\n",
    "\n",
    "Aprrev = np.sum(month_rev[3:144:12])\n",
    "print(\"The revenue for the month of April is: \", Aprrev)\n",
    "\n",
    "Mayrev = np.sum(month_rev[4:144:12])\n",
    "print(\"The revenue for the month of May is: \", Mayrev)\n",
    "\n",
    "Junerev = np.sum(month_rev[5:144:12])\n",
    "print(\"The revenue for the month of June is: \", Junerev)\n",
    "\n",
    "Julyrev = np.sum(month_rev[6:144:12])\n",
    "print(\"The revenue for the month of July is: \", Julyrev)\n",
    "\n",
    "Augrev = np.sum(month_rev[7:144:12])\n",
    "print(\"The revenue for the month of August is: \", Augrev)\n",
    "\n",
    "Septrev = np.sum(month_rev[8:144:12])\n",
    "print(\"The revenue for the month of September is: \", Septrev)\n",
    "\n",
    "Octrev = np.sum(month_rev[9:144:12])\n",
    "print(\"The revenue for the month of October is: \", Octrev)\n",
    "\n",
    "Novrev = np.sum(month_rev[10:144:12])\n",
    "print(\"The revenue for the month of November is: \", Novrev)\n",
    "\n",
    "Decrev = np.sum(month_rev[11:144:12])\n",
    "print(\"The revenue for the month of December is: \", Decrev)\n",
    "\n",
    "\n",
    "##Montly cost\n",
    "print(\"\\nThe monthly costs are: \\n\")\n",
    "Jancost = np.sum(month_cost[0:144:12])\n",
    "print(\"The cost for the month of January is: \", Jancost)\n",
    "\n",
    "Febcost = np.sum(month_cost[1:144:12])\n",
    "print(\"The cost for the month of February is: \", Febcost)\n",
    "\n",
    "Marchcost = np.sum(month_cost[2:144:12])\n",
    "print(\"The cost for the month of March is: \", Marchcost)\n",
    "\n",
    "Aprcost = np.sum(month_cost[3:144:12])\n",
    "print(\"The cost for the month of April is: \", Aprcost)\n",
    "\n",
    "Maycost = np.sum(month_cost[4:144:12])\n",
    "print(\"The cost for the month of May is: \", Maycost)\n",
    "\n",
    "Junecost = np.sum(month_cost[5:144:12])\n",
    "print(\"The cost for the month of June is: \", Junecost)\n",
    "\n",
    "Julycost = np.sum(month_cost[6:144:12])\n",
    "print(\"The cost for the month of July is: \", Julycost)\n",
    "\n",
    "Augcost = np.sum(month_cost[7:144:12])\n",
    "print(\"The cost for the month of August is: \", Augcost)\n",
    "\n",
    "Septcost = np.sum(month_cost[8:144:12])\n",
    "print(\"The cost for the month of September is: \", Septcost)\n",
    "\n",
    "Octcost = np.sum(month_cost[9:144:12])\n",
    "print(\"The cost for the month of October is: \", Octcost)\n",
    "\n",
    "Novcost = np.sum(month_cost[10:144:12])\n",
    "print(\"The cost for the month of November is: \", Novcost)\n",
    "\n",
    "Deccost = np.sum(month_cost[11:144:12])\n",
    "print(\"The cost for the month of December is: \", Deccost)\n",
    "\n",
    "\n",
    "##Monthly profits\n",
    "print(\"\\nThe monthly profits are: \\n\")\n",
    "\n",
    "Janprof = np.sum(month_profit[0:144:12])\n",
    "print(\"The profit for the month of January is: \", Janprof)\n",
    "\n",
    "Febprof = np.sum(month_profit[1:144:12])\n",
    "print(\"The profit for the month of February is: \", Febprof)\n",
    "\n",
    "Marprof = np.sum(month_profit[2:144:12])\n",
    "print(\"The profit for the month of March is: \", Marprof)\n",
    "\n",
    "Aprprof = np.sum(month_profit[3:144:12])\n",
    "print(\"The profit for the month of April is: \", Aprprof)\n",
    "\n",
    "Mayprof = np.sum(month_profit[4:144:12])\n",
    "print(\"The profit for the month of May is: \", Mayprof)\n",
    "\n",
    "Juneprof = np.sum(month_profit[5:144:12])\n",
    "print(\"The profit for the month of June is: \", Juneprof)\n",
    "\n",
    "Julyprof = np.sum(month_profit[6:144:12])\n",
    "print(\"The profit for the month of July is: \", Julyprof)\n",
    "\n",
    "Augprof = np.sum(month_profit[7:144:12])\n",
    "print(\"The profit for the month of August is: \", Augprof)\n",
    "\n",
    "Septprof = np.sum(month_profit[8:144:12])\n",
    "print(\"The profit for the month of September is: \", Septprof)\n",
    "\n",
    "Octprof = np.sum(month_profit[9:144:12])\n",
    "print(\"The profit for the month of October is: \", Octprof)\n",
    "\n",
    "Novprof = np.sum(month_profit[10:144:12])\n",
    "print(\"The profit for the month of November is: \", Novprof)\n",
    "\n",
    "Decprof = np.sum(month_profit[11:144:12])\n",
    "print(\"The profit for the month of December is: \", Decprof)\n"
   ]
  },
  {
   "cell_type": "markdown",
   "metadata": {},
   "source": [
    "## Part 2: Flavor Sales"
   ]
  },
  {
   "cell_type": "code",
   "execution_count": 8,
   "metadata": {},
   "outputs": [],
   "source": [
    "#Create a function that *returns* and prints the flavor profits for the whole year \n",
    "def flavor_sales(price, cost, sales):\n",
    "    flavor_revenue = (np.multiply(sales,price))\n",
    "    flavor_costs = (np.multiply(sales,cost))\n",
    "    flavor_profits = flavor_revenue - flavor_costs     \n",
    "    return flavor_profits.flatten()\n"
   ]
  },
  {
   "cell_type": "code",
   "execution_count": 11,
   "metadata": {},
   "outputs": [],
   "source": [
    "### Do not alter this cell\n",
    "flavor_profit = flavor_sales(prices_mat, costs_mat, sales_mat)\n",
    "### print the values"
   ]
  },
  {
   "cell_type": "code",
   "execution_count": 12,
   "metadata": {},
   "outputs": [
    {
     "name": "stdout",
     "output_type": "stream",
     "text": [
      "The profit of flavor, Red Velvet for the whole year is:  41370\n",
      "The profit of flavor, Oreo for the whole year is:  19040\n",
      "The profit of flavor, Super Glazed for the whole year is:  53260\n",
      "The profit of flavor, Almond honey for the whole year is:  23715\n",
      "The profit of flavor, Matcha for the whole year is:  61245\n",
      "The profit of flavor, Strawberry Cream for the whole year is:  18387\n",
      "The profit of flavor, Brown Sugar Boba for the whole year is:  30660\n",
      "The profit of flavor, Fruits and Nuts for the whole year is:  39820\n",
      "The profit of flavor, Dark Chocolate for the whole year is:  44790\n",
      "The profit of flavor, Chocolate and Orange for the whole year is:  27615\n",
      "The profit of flavor, Choco Mint for the whole year is:  26156\n",
      "The profit of flavor, Choco Butter Naught for the whole year is:  91770\n"
     ]
    }
   ],
   "source": [
    "#print(flavor_profit)\n",
    "\n",
    "## Computation for each by accessing each index with steps\n",
    "red_velvet = np.sum(flavor_profit[0:12])\n",
    "print(\"The profit of flavor, Red Velvet for the whole year is: \", red_velvet)\n",
    "\n",
    "oreo = np.sum(flavor_profit[12:24])\n",
    "print(\"The profit of flavor, Oreo for the whole year is: \", oreo)\n",
    "\n",
    "super_glazed = np.sum(flavor_profit[24:36])\n",
    "print(\"The profit of flavor, Super Glazed for the whole year is: \", super_glazed)\n",
    "\n",
    "almond_honey = np.sum(flavor_profit[36:48])\n",
    "print(\"The profit of flavor, Almond honey for the whole year is: \", almond_honey)\n",
    "\n",
    "matcha = np.sum(flavor_profit[48:60])\n",
    "print(\"The profit of flavor, Matcha for the whole year is: \", matcha)\n",
    "\n",
    "strawberry_cream = np.sum(flavor_profit[60:72])\n",
    "print(\"The profit of flavor, Strawberry Cream for the whole year is: \", strawberry_cream)\n",
    "\n",
    "brown_sugar_boba = np.sum(flavor_profit[72:84])\n",
    "print(\"The profit of flavor, Brown Sugar Boba for the whole year is: \", brown_sugar_boba)\n",
    "\n",
    "fruits_and_nuts = np.sum(flavor_profit[84:96])\n",
    "print(\"The profit of flavor, Fruits and Nuts for the whole year is: \", fruits_and_nuts)\n",
    "\n",
    "dark_chocolate = np.sum(flavor_profit[96:108])\n",
    "print(\"The profit of flavor, Dark Chocolate for the whole year is: \", dark_chocolate)\n",
    "\n",
    "choc_and_orange = np.sum(flavor_profit[108:120])\n",
    "print(\"The profit of flavor, Chocolate and Orange for the whole year is: \", choc_and_orange)\n",
    "\n",
    "choco_mint = np.sum(flavor_profit[120:132])\n",
    "print(\"The profit of flavor, Choco Mint for the whole year is: \", choco_mint)\n",
    "\n",
    "choco_butter_naught = np.sum(flavor_profit[132:144])\n",
    "print(\"The profit of flavor, Choco Butter Naught for the whole year is: \", choco_butter_naught)\n",
    "\n"
   ]
  },
  {
   "cell_type": "code",
   "execution_count": 13,
   "metadata": {},
   "outputs": [
    {
     "name": "stdout",
     "output_type": "stream",
     "text": [
      "The best 3 flavors are:\n",
      "Choco Butter Naught: 6555 Sales\t  Super Glazed: 5326 Sales\t Red velvet: 4137 Sales\n",
      "\n",
      "\n",
      "The worst 3 flavors are:\n",
      "Almond honey: 1581 Sales\t  Chocolate and orange: 1841 Sales\t Almond Honey: 1904 Sales\n"
     ]
    }
   ],
   "source": [
    "### identify the best-selling and least-selling flavors. You can use np.sort() or np.argmax() for this.\n",
    "#print(flavors_list)\n",
    "\n",
    "#Number of Sales for a year of each flavor\n",
    "flatten_sales_mat = sales_mat.flatten()\n",
    "#print(flatten_sales_mat)\n",
    "\n",
    "## Computation for each by accessing each index with steps\n",
    "flavor_sales = []\n",
    "red_velvet_sales = np.sum(flatten_sales_mat[0:12])\n",
    "flavor_sales.append(red_velvet_sales)\n",
    "\n",
    "oreo_sales = np.sum(flatten_sales_mat[12:24])\n",
    "flavor_sales.append(oreo_sales)\n",
    "\n",
    "super_glazed_sales = np.sum(flatten_sales_mat[24:36])\n",
    "flavor_sales.append(super_glazed_sales)\n",
    "\n",
    "almond_honey_sales = np.sum(flatten_sales_mat[36:48])\n",
    "flavor_sales.append(almond_honey_sales)\n",
    "\n",
    "matcha_sales = np.sum(flatten_sales_mat[48:60])\n",
    "flavor_sales.append(matcha_sales)\n",
    "\n",
    "strawberry_cream_sales = np.sum(flatten_sales_mat[60:72])\n",
    "flavor_sales.append(strawberry_cream_sales)\n",
    "\n",
    "brown_sugar_boba_sales = np.sum(flatten_sales_mat[72:84])\n",
    "flavor_sales.append(brown_sugar_boba_sales)\n",
    "\n",
    "fruits_and_nuts_sales = np.sum(flatten_sales_mat[84:96])\n",
    "flavor_sales.append(fruits_and_nuts_sales)\n",
    "\n",
    "dark_chocolate_sales = np.sum(flatten_sales_mat[96:108])\n",
    "flavor_sales.append(dark_chocolate_sales)\n",
    "\n",
    "choc_and_orange_sales = np.sum(flatten_sales_mat[108:120])\n",
    "flavor_sales.append(choc_and_orange_sales)\n",
    "\n",
    "choco_mint_sales = np.sum(flatten_sales_mat[120:132])\n",
    "flavor_sales.append(choco_mint_sales)\n",
    "\n",
    "choco_butter_naught_sales = np.sum(flatten_sales_mat[132:144])\n",
    "flavor_sales.append(choco_butter_naught_sales)\n",
    "#print(flavor_sales)\n",
    "\n",
    "#Best-selling\n",
    "best_3_flavors = np.sort(flavor_sales)\n",
    "#print(best_3_flavors[9:13])\n",
    "##Accessing the last 3 on the sorted list of flavors\n",
    "red_velvet_sales, super_glazed_sales, Choco_Butter_naught_sales = best_3_flavors[9:13] \n",
    "print(\"The best 3 flavors are:\")\n",
    "print(\"Choco Butter Naught: {0} Sales\\t  Super Glazed: {1} Sales\\t Red velvet: {2} Sales\".format(Choco_Butter_naught_sales,super_glazed_sales,red_velvet_sales))\n",
    "\n",
    "#Least-selling\n",
    "worst_3_flavors = np.sort(flavor_sales)\n",
    "#print(worst_3_flavors[0:3]) \n",
    "##Accessing the first 3 on the sorted list of flavors\n",
    "almond_honey_sales, chocolate_and_orange_sales, Oreo_sales  = worst_3_flavors[0:3]\n",
    "print(\"\\n\\nThe worst 3 flavors are:\")\n",
    "print(\"Almond honey: {0} Sales\\t  Chocolate and orange: {1} Sales\\t Almond Honey: {2} Sales\".format(almond_honey_sales,chocolate_and_orange_sales,Oreo_sales))\n"
   ]
  },
  {
   "cell_type": "markdown",
   "metadata": {},
   "source": [
    "## Part 3: Visualizing the Data (Optional for +40%)\n",
    "You can try to visualize the data in the most comprehensible chart that you can use."
   ]
  },
  {
   "cell_type": "code",
   "execution_count": 14,
   "metadata": {},
   "outputs": [],
   "source": [
    "import matplotlib.pyplot as plt\n",
    "import matplotlib\n",
    "import seaborn as sns\n",
    "\n",
    "%matplotlib inline"
   ]
  },
  {
   "cell_type": "markdown",
   "metadata": {},
   "source": [
    "#### Entire Dataset"
   ]
  },
  {
   "cell_type": "code",
   "execution_count": 15,
   "metadata": {},
   "outputs": [
    {
     "data": {
      "text/plain": [
       "<seaborn.axisgrid.FacetGrid at 0x185b3b96a90>"
      ]
     },
     "execution_count": 15,
     "metadata": {},
     "output_type": "execute_result"
    },
    {
     "data": {
      "image/png": "[encoded data removed]",
      "text/plain": [
       "<Figure size 720x2160 with 12 Axes>"
      ]
     },
     "metadata": {
      "needs_background": "light"
     },
     "output_type": "display_data"
    }
   ],
   "source": [
    "file_entireset = \"bebang sales for entire sets.csv\"\n",
    "df_entireset = pd.read_csv(file_entireset)\n",
    "\n",
    "sns.relplot(\"Sales\",\"Profits\", data=df_entireset,col=\"Month \",col_wrap=2)\n",
    "#sns.relplot(\"Sales\",\"Profits\", data=df_entireset)"
   ]
  },
  {
   "cell_type": "markdown",
   "metadata": {},
   "source": [
    "#### Monthly Sales"
   ]
  },
  {
   "cell_type": "code",
   "execution_count": 16,
   "metadata": {},
   "outputs": [
    {
     "data": {
      "text/plain": [
       "<matplotlib.axes._subplots.AxesSubplot at 0x185b73cdf70>"
      ]
     },
     "execution_count": 16,
     "metadata": {},
     "output_type": "execute_result"
    },
    {
     "data": {
      "image/png": "[encoded data removed]",
      "text/plain": [
       "<Figure size 432x288 with 1 Axes>"
      ]
     },
     "metadata": {
      "needs_background": "light"
     },
     "output_type": "display_data"
    }
   ],
   "source": [
    "file_monthlysales = \"bebang monthly sales.csv\"\n",
    "df_montlysales = pd.read_csv(file_monthlysales)\n",
    "\n",
    "sns.barplot(x= 'Sales/Revenues', y='Month', data=df_montlysales)"
   ]
  },
  {
   "cell_type": "markdown",
   "metadata": {},
   "source": [
    "#### Flavor Sales"
   ]
  },
  {
   "cell_type": "code",
   "execution_count": 17,
   "metadata": {},
   "outputs": [
    {
     "data": {
      "text/plain": [
       "<matplotlib.axes._subplots.AxesSubplot at 0x185b7a53580>"
      ]
     },
     "execution_count": 17,
     "metadata": {},
     "output_type": "execute_result"
    },
    {
     "data": {
      "image/png": "[encoded data removed]",
      "text/plain": [
       "<Figure size 432x288 with 1 Axes>"
      ]
     },
     "metadata": {
      "needs_background": "light"
     },
     "output_type": "display_data"
    }
   ],
   "source": [
    "file_flavorsales = \"bebang flavor sales.csv\"\n",
    "df_flavorsales = pd.read_csv(file_flavorsales)\n",
    "df_flavorsales\n",
    "\n",
    "sns.barplot(x= 'Sales/Revenues', y='Flavor', data=df_flavorsales)"
   ]
  },
  {
   "cell_type": "markdown",
   "metadata": {},
   "source": [
    "## Part 4: Business Recommendation and Conclusion\n",
    "Present the findings of your data analysis and provide recommendations"
   ]
  },
  {
   "cell_type": "markdown",
   "metadata": {},
   "source": [
    "After getting all the data needed, it can be observed every part of the data such as what month has the highest profit or what flavor is the most popular for the customers. It can also be observed what month specifically one flavor excels in sales. From knowing that, the stock of the ingredients for that specific flavor can be minimized to lessen the cost needed for a month. The sales for November to January are great however, it is noticeable that from June to October the sales are struggling. If from the previous years the results from the said months are also not good, the only way is to minimize the cost for those months as much as possible to save money and go all out from November of that year up until the first quarter of the next year. "
   ]
  }
 ],
 "metadata": {
  "kernelspec": {
   "display_name": "Python 3",
   "language": "python",
   "name": "python3"
  },
  "language_info": {
   "codemirror_mode": {
    "name": "ipython",
    "version": 3
   },
   "file_extension": ".py",
   "mimetype": "text/x-python",
   "name": "python",
   "nbconvert_exporter": "python",
   "pygments_lexer": "ipython3",
   "version": "3.8.3"
  }
 },
 "nbformat": 4,
 "nbformat_minor": 4
}
